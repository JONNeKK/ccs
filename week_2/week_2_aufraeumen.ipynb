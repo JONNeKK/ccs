{
 "cells": [
  {
   "cell_type": "markdown",
   "metadata": {},
   "source": [
    "*Week 1 Velocity distributions:*\n",
    "\n",
    "Background:\n",
    "Irrespective of the start conditions, velocity distributions in multi-particle systems with\n",
    "collisions between particles converge to a Maxwell-Boltzmann distribution. We will\n",
    "investigate this effect by creating our own simulation of a multi-particle systems of\n",
    "hard spheres in a 2D-box.\n",
    "\n",
    "**Task I - Implementation**\n",
    "In this first section will outline how we created an algorythm for simulating hard spheres in a box that includes \n",
    "* elastic collisions of hard spheres\n",
    "* multi particle systems\n",
    "* periodic boundary conditions for the box\n",
    "\n",
    "All the code will be provided in easy to use functions that will be called for Task II.\n",
    "\n"
   ]
  },
  {
   "cell_type": "markdown",
   "metadata": {},
   "source": [
    "Importing all external libraries used in this code"
   ]
  },
  {
   "cell_type": "code",
   "execution_count": 1,
   "metadata": {
    "ExecuteTime": {
     "end_time": "2024-10-24T23:11:08.193495Z",
     "start_time": "2024-10-24T23:11:06.258594Z"
    },
    "collapsed": true
   },
   "outputs": [],
   "source": [
    "import matplotlib.pyplot as plt\n",
    "from matplotlib import animation, rc\n",
    "from IPython.display import HTML\n",
    "\n",
    "import copy\n",
    "import numpy as np\n",
    "import scipy as scy"
   ]
  },
  {
   "cell_type": "markdown",
   "metadata": {},
   "source": [
    "Creating a particle class:"
   ]
  },
  {
   "cell_type": "code",
   "execution_count": 2,
   "metadata": {
    "ExecuteTime": {
     "end_time": "2024-10-24T23:11:08.201596Z",
     "start_time": "2024-10-24T23:11:08.198679Z"
    },
    "collapsed": true
   },
   "outputs": [],
   "source": [
    "class Particle:\n",
    "    \"\"\" A round particle with a defined position and velocity\\n\n",
    "    r   : the radius of the particle\\n\n",
    "    pos : the 2-dimensional position of the particle\\n\n",
    "    vel : the x- and y-component of the particle velocity\n",
    "    \"\"\"\n",
    "    def __init__(self, r, x, y, vx, vy):\n",
    "        \"\"\"Initializing the Particle class.\\n\n",
    "        r       : radius of the particle\\n\n",
    "        x, y    : x and y positions. Don't need to be inside of a box-class\\n\n",
    "        vx, vy  : velocities in x- and y-direction\n",
    "        \"\"\"\n",
    "        self.r = r\n",
    "        self.pos = np.array([x,y])\n",
    "        self.vel = np.array([vx,vy])\n",
    "        \n",
    "    def __repr__(self):\n",
    "        \"\"\"printing for debugging\"\"\"\n",
    "        return str(\"This is a particle at %0.2f, %0.2f with v=%0.2f,%0.2f\" % (self.pos[0],self.pos[1],self.vel[0],self.vel[1]))\n",
    "    \n",
    "    def move(self, dt = 1., vel = []):\n",
    "        \"\"\"moving the particle in the direction, where the velocity-vector points.\\n\n",
    "        dt  : the time-step moving forward; default = 1\\n\n",
    "        vel : a velocity vector for moving in that direction during a time-step of one; default = self.vel\n",
    "        \"\"\"\n",
    "        if len(vel) == 0:\n",
    "            vel = self.vel\n",
    "        self.pos += vel*dt\n",
    "\n",
    "    def calculate_distance(self, particle_1):\n",
    "        \"\"\"Calculate the distance to another particle.\\n\n",
    "        particle_1  : The other particle\n",
    "        \"\"\"\n",
    "        return np.linalg.norm(self.pos)\n",
    "\n"
   ]
  },
  {
   "cell_type": "code",
   "execution_count": 11,
   "metadata": {},
   "outputs": [],
   "source": [
    "class Box:\n",
    "    \"\"\"Box-class: defining a rectangular box-shape, in which Particles can roam. One corner is always (0,0)\\n\n",
    "    box         : 2-dimensional array of the two lengths of the x- and y-axis, corresponding to the boundaries of the box.\\n\n",
    "    particles   : a list of all particles in the box\\n\n",
    "    n_particles : the number of particles inside of the box\n",
    "    \"\"\"\n",
    "    def __init__(self,box_size):\n",
    "        \"\"\"Initializing the Box-class\\n\n",
    "        box_size    : a 2-dimensional array of the two lengths of the x- and y-axis, corresponding to the boundaries of the box.\n",
    "        \"\"\"\n",
    "        self.box = box_size\n",
    "        self.particles = []\n",
    "        self.n_particles = 0\n",
    "        \n",
    "    def __repr__(self):\n",
    "        \"\"\"printing for debugging\"\"\"\n",
    "        return str(\"This is a box of size %0.2f\" % (self.box) + \", with %0.2f\" % (self.n_particles) + \" particles\")\n",
    "\n",
    "\n",
    "\n",
    "    def random_positions(self, axis, n_particles = 0):\n",
    "        \"\"\"return random positions for a number of particles (only one axis)\\n\n",
    "        axis        : either 0 or 1.     0 = x-axis, 1 = y-axis\\n\n",
    "        n_particles : the number of particles for which positions should be given; default self.n_particles\\n\n",
    "        returns     : array of random positions\n",
    "        \"\"\"\n",
    "        if n_particles == 0:\n",
    "            n_particles = self.n_particles\n",
    "        rnd = np.random.randint(1,self.box[axis]-1,n_particles)\n",
    "        return rnd\n",
    "\n",
    "\n",
    "\n",
    "    def fill_particles(self, n_particles, radius, vel, angle = 0, x = [], y = []):\n",
    "        \"\"\"fills the particles-array with particles\\n\n",
    "        n_particles : The amount of particles that should be inserted\\n\n",
    "        radius      : The radius of particles; either as array of length n for individual radii or int/float for a general radius\n",
    "        vel         : The absolute velocity; either as array of length n for individual velocities or int/float for a uniform initial velocity\n",
    "        angle       : The initial angles of the particles as array of length n for individual angles; default is uniformly distributed\n",
    "        x,y         : initial positions as array of length n; default random positions 0.5 away from border\n",
    "        \"\"\"\n",
    "        if type(radius) == int or type(radius) == float:\n",
    "            radius = np.ones(n_particles)*radius\n",
    "        if type(vel) == int or type(vel) == float:\n",
    "            vel = np.ones(n_particles)*vel\n",
    "        if angle == 0:\n",
    "            angle = np.random.uniform(0,2 * np.pi, n_particles)\n",
    "        else:\n",
    "            angle = np.array(angle)\n",
    "        \n",
    "        if len(x) == 0:\n",
    "            x = self.random_positions(0,n_particles)\n",
    "        if len(y) == 0:\n",
    "            y = self.random_positions(1,n_particles)\n",
    "\n",
    "        for i in range(n_particles):\n",
    "            self.particles.append(Particle(radius[i],x[i],y[i],np.sin(angle[i]) * vel[i],np.cos(angle[i]) * vel[i]))\n",
    "\n",
    "\n",
    "\n",
    "    def wrap_around(self, particles = []):\n",
    "        \"\"\"For continuous borders, i.e. a particle that exits to the right is entering from the left and vice versa\\n\n",
    "        particles   : Particles, which should be wrapped; default self.particles\\n\n",
    "        returns     : array of particles with new positions\n",
    "        \"\"\"\n",
    "        if len(particles) == 0:\n",
    "            particles = self.particles\n",
    "        for i in range(len(particles)):\n",
    "            particles[i].pos = particles[i].pos % self.box\n",
    "        return particles\n",
    "\n",
    "\n",
    "\n",
    "    def reflect(self, particles = []):\n",
    "        \"\"\"Reflecting particles on the edges of the box.\\n\n",
    "        particles   : Particles, which should be reflected; default self.particles\\n\n",
    "        returns     : array of particles with new positions\n",
    "        \"\"\"\n",
    "        if len(particles) == 0:\n",
    "            particles = self.particles\n",
    "        \n",
    "        for i in range(len(particles)):\n",
    "            if (particles[i].pos[0] + particles[i].r) >= self.box[0] or (particles[i].pos[0]) <= particles[i].r:\n",
    "                particles[i].vel[0] *= (-1)\n",
    "            if (particles[i].pos[1] + particles[i].r) >= self.box[1] or (particles[i].pos[1]) <= particles[i].r:\n",
    "                particles[i].vel[1] *= (-1)\n",
    "\n",
    "        return particles\n",
    "\n",
    "\n"
   ]
  },
  {
   "cell_type": "code",
   "execution_count": 20,
   "metadata": {},
   "outputs": [],
   "source": [
    "class Simulation:\n",
    "    \"\"\"Simulation class for everything related to simulating the particles in a box\\n\n",
    "    box         : The box object which should be simulated\n",
    "    steps       : The number of integration steps to perform\n",
    "    dt          : The length of one time step\n",
    "    data_traj   : The trajectories of all particles\n",
    "    \"\"\"\n",
    "    def __init__(self, box, steps, dt):\n",
    "        \"\"\"Initializing the Simulation\\n\n",
    "    box         : The box object which should be simulated\n",
    "    steps       : The number of integration steps to perform\n",
    "    dt          : The length of one time step\n",
    "    \"\"\"\n",
    "        self.box = box\n",
    "        self.steps = steps\n",
    "        self.dt = dt\n",
    "        self.data_traj = np.array([])\n",
    "\n",
    "    def set_traj(self):\n",
    "        \"\"\"Initialize the trajectory-saving\"\"\"\n",
    "        self.data_traj = np.zeros((self.box.n_particles,2,self.steps))\n",
    "\n",
    "\n",
    "\n",
    "    def collision(self, particle_1, particle_2):\n",
    "        \"\"\"Collide two particles without considering wether overlap exists.\\n\n",
    "        particles   : two particles that collide.\n",
    "        \"\"\"\n",
    "        # calculate angle between x-axis and line between particles\n",
    "        phi = np.arctan((particle_2.pos[1] - particle_1.pos[1])/(particle_2.pos[0] - particle_1.pos[0]))\n",
    "        # change the velocities\n",
    "        sin_phi = np.sin(phi)\n",
    "        cos_phi = np.cos(phi)\n",
    "        # Get the velocities of particles i and j as variables\n",
    "        v1x, v1y = particle_1.vel[0], particle_1.vel[1]\n",
    "        v2x, v2y = particle_2.vel[0], particle_2.vel[1]\n",
    "\n",
    "        # Calculate the updated velocities using the provided formulas: https://hermann-baum.de/elastischer_stoss/\n",
    "        # the tangental part stays the same, the normal part changes. This is done in transformed coordinates and then transformed directly back\n",
    "        new_v1x = ( v1x * sin_phi - v1y * cos_phi) * sin_phi + (v2x * cos_phi + v2y * sin_phi) * cos_phi\n",
    "        new_v1y = (-v1x * sin_phi + v1y * cos_phi) * cos_phi + (v2x * cos_phi + v2y * sin_phi) * sin_phi\n",
    "        new_v2x = ( v2x * sin_phi - v2y * cos_phi) * sin_phi + (v1x * cos_phi + v1y * sin_phi) * cos_phi\n",
    "        new_v2y = (-v2x * sin_phi + v2y * cos_phi) * cos_phi + (v1x * cos_phi + v1y * sin_phi) * sin_phi\n",
    "\n",
    "        # Update the particles' velocities\n",
    "        particle_1.vel[0], particle_1.vel[1] = new_v1x, new_v1y\n",
    "        particle_2.vel[0], particle_2.vel[1] = new_v2x, new_v2y\n",
    "        return particle_1, particle_2\n",
    "\n",
    "    def collide_simple(self, particles):\n",
    "        \"\"\"Initial idea on how collision works.\\n\n",
    "        particles   : All particles for which the collision should happen\n",
    "        \"\"\"\n",
    "        for i in range(len(particles)): # looping through all particles\n",
    "            for j in range(i,len(particles)):\n",
    "                if particles[i].calculate_distance(particles[j])<(particles[i].r+particles[j].r):\n",
    "                    particles[i], particles[j] = self.collision(particles[i], particles[j])\n",
    "\n",
    "\n",
    "    def check_overlap(self, particle_1, particle_2):\n",
    "        \"\"\"Check if two particles overlap\\n\n",
    "        particles   : two particles to check wether they overlap\n",
    "        \"\"\"\n",
    "        # how far apart the particles should be on impact\n",
    "        R = particle_1.r+particle_2.r\n",
    "        if particle_1.calculate_distance(particle_2)<R:\n",
    "            return True\n",
    "        else:\n",
    "            return False\n",
    "\n",
    "    def collision_complex(self, particle_1, particle_2):\n",
    "        \"\"\"The more complex version of collisions. This includes time-warping two colliding particles backwards, so that they don't overlap. After the collision, time is warped forward again.\\n\n",
    "        particles   : two particles that get checked if they should collide\n",
    "        \"\"\"\n",
    "        if self.check_overlap(particle_1,particle_2):\n",
    "            #print(step)\n",
    "            print(particle_1, particle_2,'collided with a distance of ', particle_1.calculate_distance(particle_2))\n",
    "            \n",
    "            # in time\n",
    "            # defining re-used variables\n",
    "            velocity_vector = particle_1.vel-particle_2.vel     # von j nach i\n",
    "            distance_vector = particle_2.pos-particle_1.pos     # von i nach j\n",
    "            R = particle_1.r+particle_2.r\n",
    "\n",
    "            #calculating the time needed to travel back in two steps:\n",
    "            sqrt = 2*np.sqrt((distance_vector[0]*velocity_vector[0]+distance_vector[1]*velocity_vector[1])**2-(velocity_vector[0]**2+velocity_vector[1]**2)*(distance_vector[0]**2+distance_vector[1]**2-R**2))\n",
    "            \n",
    "            delta_t = -1*(-2*(distance_vector[0]*velocity_vector[0]+distance_vector[1]*velocity_vector[1]) + sqrt)/(2*(velocity_vector[0]**2+velocity_vector[1]**2))\n",
    "            \n",
    "            #solving the quadratic equation results in two solutions (one positive and one negative), we want the negative solution, for backwards time-travel\n",
    "            if delta_t > 0:\n",
    "                delta_t = -1*(-2*(distance_vector[0]*velocity_vector[0]+distance_vector[1]*velocity_vector[1]) - sqrt)/(2*(velocity_vector[0]**2+velocity_vector[1]**2))\n",
    "\n",
    "            # rewind time to just outside of the collision\n",
    "            particle_1.move(delta_t)\n",
    "            particle_2.move(delta_t)\n",
    "\n",
    "            # change the velocities\n",
    "            particle_1, particle_2 = self.collision(particle_1, particle_2)\n",
    "            \n",
    "            # finish this time_step, that was rewound previously and open the boundaries again with np.mod\n",
    "            particle_1.move(-delta_t)\n",
    "            particle_2.move(-delta_t)\n",
    "            \n",
    "\n",
    "\n",
    "\n",
    "                \n",
    "\n",
    "    def collide_border_check(self):\n",
    "        \"\"\"Check if there are particles that might collide with particles on the opposite side of the box\"\"\"\n",
    "        #run through all pairwise possible interactions and check collisions\n",
    "        for i in range(len(self.box.particles)):\n",
    "            # account for edge cases\n",
    "            if self.box.particles[i].pos[0] < self.box.particles[i].r:\n",
    "                self.box.particles[i].pos[0] += self.box[0]\n",
    "            elif self.box.particles[i].pos[0] < self.box.box[0]-self.box.particles[i].r:\n",
    "                self.box.particles[i].pos[0] -= self.box[0]\n",
    "\n",
    "            if self.box.particles[i].pos[1] < self.box.particles[i].r:\n",
    "                self.box.particles[i].pos[1] += self.box[1]\n",
    "            elif self.box.particles[i].pos[1] < self.box.box[1]-self.box.particles[i].r:\n",
    "                self.box.particles[i].pos[1] -= self.box[1]\n",
    "\n",
    "            for j in range(i,len(self.box.particles)):\n",
    "                self.collision_complex(self.box.particles[i],self.box.particles[j])\n",
    "\n",
    "\n",
    "\n",
    "    def check_collisions(self):\n",
    "        for i in range(self.box.n_particles):\n",
    "            for j in range(self.box.n_particles):\n",
    "                self.collision_complex(self.box.particles[i], self.box.particles[j])\n",
    "                self.collide_border_check()\n",
    "                self.box.wrap_around([self.box.particles[i], self.box.particles[j]])\n",
    "\n",
    "# self.box.wrap_around([particle_1,particle_2])                \n",
    "\n",
    "    def run(self):\n",
    "        for i in range(self.steps):\n",
    "            for j in range(self.box.n_particles):\n",
    "                #move(p1,1)\n",
    "                #reflect(p1)\n",
    "                self.box.particles[j].move_unbound(self.dt)\n",
    "            self.check_collisions()\n",
    "            for j in range(self.box.n_particles):\n",
    "                self.data_traj[j,:,i] = [self.box.particles[j].pos[0], self.box.particles[j].pos[1], self.box.particles[j].vel[0], self.box.particles[j].vel[1]]\n",
    "                \n"
   ]
  },
  {
   "cell_type": "code",
   "execution_count": 21,
   "metadata": {
    "ExecuteTime": {
     "end_time": "2024-10-24T23:11:08.348795Z",
     "start_time": "2024-10-24T23:11:08.346789Z"
    },
    "collapsed": true
   },
   "outputs": [],
   "source": [
    "# defining the box\n",
    "box_size = [20,20]\n",
    "\n",
    "box = Box(box_size)"
   ]
  },
  {
   "cell_type": "code",
   "execution_count": 22,
   "metadata": {},
   "outputs": [],
   "source": [
    "number_of_particles = 50\n",
    "radius = 0.5\n",
    "vel = np.ones(number_of_particles)*0.5\n",
    "angles = np.random.uniform(0,2*np.pi,number_of_particles)\n",
    "\n",
    "box.fill_particles(number_of_particles,radius,vel)\n",
    "\n"
   ]
  },
  {
   "cell_type": "code",
   "execution_count": 23,
   "metadata": {
    "ExecuteTime": {
     "end_time": "2024-10-24T23:11:08.406540Z",
     "start_time": "2024-10-24T23:11:08.403942Z"
    },
    "collapsed": true
   },
   "outputs": [],
   "source": [
    "# Defining number of simulation steps\n",
    "steps = 50\n",
    "sim = Simulation(box, steps, 1)\n",
    "sim.set_traj()"
   ]
  },
  {
   "cell_type": "code",
   "execution_count": 24,
   "metadata": {},
   "outputs": [],
   "source": [
    "sim.run()"
   ]
  },
  {
   "cell_type": "code",
   "execution_count": 26,
   "metadata": {},
   "outputs": [
    {
     "data": {
      "text/plain": [
       "50"
      ]
     },
     "execution_count": 26,
     "metadata": {},
     "output_type": "execute_result"
    }
   ],
   "source": [
    "sim.steps"
   ]
  },
  {
   "cell_type": "markdown",
   "metadata": {},
   "source": [
    "Define box reflection:"
   ]
  },
  {
   "cell_type": "markdown",
   "metadata": {},
   "source": [
    "Define a function that calculates new velocities for two particles (with the same mass) colliding with two different velocities in 2D. The formulas can be found here: \n",
    " https://hermann-baum.de/elastischer_stoss/, 24.10.2024.\n"
   ]
  },
  {
   "cell_type": "markdown",
   "metadata": {},
   "source": [
    "The following algorithm works by checkin pariwise collisions. If there is a collision, defined by any overlap of two particles, the particles travel back in time, so that they are just touching. Then the new velocities are calculated whilst turning the coordinate system, to provide for easier calculation. Then the time is unwound forwards, considering the new velocities, so that each particle has the same time passed in one calculation step. When a particle is in the boundary of the box (close to 0 position on either axis), it is additionally checked for any particles that are on the opposite side of the box."
   ]
  },
  {
   "cell_type": "markdown",
   "metadata": {},
   "source": [
    "**Task II - Carrying out the simulation**\n",
    "In the following the above functions will be implemented to run a simulation.\n",
    "\n",
    "The actual integration happens here. Everything is saved to the predefined data_traj-array\n"
   ]
  },
  {
   "cell_type": "code",
   "execution_count": null,
   "metadata": {
    "ExecuteTime": {
     "end_time": "2024-10-24T23:11:27.575992Z",
     "start_time": "2024-10-24T23:11:08.539324Z"
    },
    "collapsed": false
   },
   "outputs": [],
   "source": [
    "\n",
    "for i in range(steps):\n",
    "    for j in range(number_of_particles):\n",
    "        #move(p1,1)\n",
    "        #reflect(p1)\n",
    "        move_unbound(particles[j],1)\n",
    "        collide_boundary(particles,data_traj,i,dt)    \n",
    "        for j in range(number_of_particles):\n",
    "            data_traj[j,:,i] = [particles[j].x, particles[j].y, particles[j].vx, particles[j].vy]\n",
    "        "
   ]
  },
  {
   "cell_type": "markdown",
   "metadata": {},
   "source": [
    "The following code is just for visualisation purposes.\n",
    "\n",
    "Plotting trajectory with Matplotlib:"
   ]
  },
  {
   "cell_type": "code",
   "execution_count": null,
   "metadata": {
    "ExecuteTime": {
     "end_time": "2024-10-24T23:11:27.754643Z",
     "start_time": "2024-10-24T23:11:27.589849Z"
    },
    "collapsed": false,
    "scrolled": true
   },
   "outputs": [],
   "source": [
    "for data_traj_j in data_traj:\n",
    "    plt.plot(data_traj_j[0],data_traj_j[1],'-')\n",
    "plt.xlabel('position x')\n",
    "plt.ylabel('position y')\n",
    "\n",
    "plt.grid()\n",
    "plt.show()"
   ]
  },
  {
   "cell_type": "markdown",
   "metadata": {},
   "source": [
    "**Animate trajectory:**"
   ]
  },
  {
   "cell_type": "markdown",
   "metadata": {},
   "source": [
    "* Set up the figure, the axis, and the plot element we want to animate"
   ]
  },
  {
   "cell_type": "code",
   "execution_count": null,
   "metadata": {
    "ExecuteTime": {
     "end_time": "2024-10-24T23:11:27.847532Z",
     "start_time": "2024-10-24T23:11:27.771851Z"
    },
    "collapsed": false
   },
   "outputs": [],
   "source": [
    "fig, ax = plt.subplots()\n",
    "\n",
    "ax.set_xlim((0, box[0]))\n",
    "ax.set_ylim((0, box[1]))\n",
    "\n",
    "plt.xlabel('position x')\n",
    "plt.ylabel('position y')\n",
    "\n",
    "# make the points in the plot the correct size according to the radius of the particles\n",
    "# use ax.transData.transform to convert radius size from particle to markerSize from pyplot\n",
    "desired_size_in_data_units = radius\n",
    "data_to_points = ax.transData.transform((desired_size_in_data_units, 0)) - ax.transData.transform((0, 0))\n",
    "marker_size_in_points = data_to_points[0]\n",
    "\n",
    "\n",
    "dot, = ax.plot([], [], 'bo', ms=marker_size_in_points)\n",
    "\n",
    "\n",
    "#ax.plot(5,5, 'bo', ms=marker_size_in_points)\n",
    "# dont show the plot \n",
    "#plt.close()"
   ]
  },
  {
   "cell_type": "code",
   "execution_count": 18,
   "metadata": {
    "ExecuteTime": {
     "end_time": "2024-10-24T23:11:27.862927Z",
     "start_time": "2024-10-24T23:11:27.859290Z"
    },
    "collapsed": true
   },
   "outputs": [],
   "source": [
    "# * initialization function: plot the background of each frame\n",
    "def init():\n",
    "    dot.set_data([], [])\n",
    "    return (dot,)"
   ]
  },
  {
   "cell_type": "code",
   "execution_count": 19,
   "metadata": {
    "ExecuteTime": {
     "end_time": "2024-10-24T23:11:27.881110Z",
     "start_time": "2024-10-24T23:11:27.877818Z"
    },
    "collapsed": true
   },
   "outputs": [],
   "source": [
    "# animation function. This is called sequentially\n",
    "def animate(i):\n",
    "    x = data_traj[:,0,i]\n",
    "    y = data_traj[:,1,i]\n",
    "    dot.set_data(x, y)\n",
    "    return (dot,)\n"
   ]
  },
  {
   "cell_type": "markdown",
   "metadata": {},
   "source": [
    "* call the animator. blit=True means only re-draw the parts that have changed."
   ]
  },
  {
   "cell_type": "code",
   "execution_count": 20,
   "metadata": {
    "ExecuteTime": {
     "end_time": "2024-10-24T23:11:27.920220Z",
     "start_time": "2024-10-24T23:11:27.895301Z"
    },
    "collapsed": false
   },
   "outputs": [],
   "source": [
    "anim = animation.FuncAnimation(fig, animate, init_func=init,\n",
    "                               frames=steps, interval=60, blit=True)"
   ]
  },
  {
   "cell_type": "code",
   "execution_count": 21,
   "metadata": {
    "ExecuteTime": {
     "end_time": "2024-10-24T23:11:30.694831Z",
     "start_time": "2024-10-24T23:11:27.931687Z"
    },
    "collapsed": false
   },
   "outputs": [],
   "source": [
    "HTML(anim.to_html5_video())\n",
    "\n",
    "# uncomment if video should not be saved\n",
    "anim.save('animation.mp4', writer='ffmpeg', fps=30)\n"
   ]
  },
  {
   "cell_type": "markdown",
   "metadata": {
    "collapsed": true
   },
   "source": [
    "***Task III - analysis of the velocity distributions:***\n",
    "\n",
    "Finally the results from the above simulation can be analysed."
   ]
  },
  {
   "cell_type": "markdown",
   "metadata": {},
   "source": [
    "Analysis of the velocity distribution in x direction\n",
    "In order to plot a histogram the data saved in the data_traj has to be transformed into a list."
   ]
  },
  {
   "cell_type": "code",
   "execution_count": null,
   "metadata": {
    "ExecuteTime": {
     "end_time": "2024-10-24T23:12:04.499062Z",
     "start_time": "2024-10-24T23:12:04.392668Z"
    }
   },
   "outputs": [],
   "source": [
    "# format of data_traj:\n",
    "\n",
    "list_for_histogramm = []\n",
    "for 0 in range(steps):\n",
    "    for 1 in range(number_of_particles):\n",
    "        list_for_histogramm.append((data_traj)[1, 0, 0])\n",
    "\n",
    "plt.hist(list_for_histogramm,range=(0,box[0]),bins=10)\n",
    "plt.xlabel('position x')\n",
    "plt.ylabel('occupancy')\n",
    "plt.show()"
   ]
  },
  {
   "cell_type": "code",
   "execution_count": null,
   "metadata": {
    "ExecuteTime": {
     "end_time": "2024-10-24T23:11:30.790518Z",
     "start_time": "2024-10-24T23:11:30.706170Z"
    }
   },
   "outputs": [],
   "source": [
    "# histogram of the y positions\n",
    "\n",
    "list_for_histogramm = []\n",
    "for 0 in range(steps):\n",
    "    for 1 in range(number_of_particles):\n",
    "        list_for_histogramm.append((data_traj)[1, 1, 0])\n",
    "\n",
    "plt.hist(list_for_histogramm,range=(0,box[0]),bins=10)\n",
    "plt.xlabel('position y')\n",
    "plt.ylabel('occupancy')\n",
    "plt.show()"
   ]
  },
  {
   "cell_type": "code",
   "execution_count": null,
   "metadata": {
    "ExecuteTime": {
     "end_time": "2024-10-24T23:11:31.362376Z",
     "start_time": "2024-10-24T22:31:47.297427Z"
    },
    "collapsed": false,
    "scrolled": true
   },
   "outputs": [],
   "source": [
    "# 2d plot of the position distribution\n",
    "\n",
    "a = []\n",
    "for 0 in range(steps):\n",
    "    for 1 in range(number_of_particles):\n",
    "        a.append((data_traj)[1, 0, 0])\n",
    "b = []\n",
    "for 0 in range(steps):\n",
    "    for 1 in range(number_of_particles):\n",
    "        b.append((data_traj)[1, 1, 0])\n",
    "    \n",
    "\n",
    "plt.hist2d(a, b, range=[[0,box[0]],[0,box[1]]], bins=10)\n",
    "plt.xlabel('position x')\n",
    "plt.ylabel('position y')\n",
    "plt.colorbar().set_label('occupancy')\n",
    "plt.show()"
   ]
  },
  {
   "cell_type": "markdown",
   "metadata": {},
   "source": [
    "In the above plots it can be observed that whilst the simple histograms of x and y distribution show an evenly spread distribution, in 2D the box is not homogeniously sampled. Certain spots show a significantly higher occupancy than others. This is clearly a limitation."
   ]
  },
  {
   "cell_type": "code",
   "execution_count": null,
   "metadata": {
    "ExecuteTime": {
     "end_time": "2024-10-24T23:18:24.274208Z",
     "start_time": "2024-10-24T23:18:24.117480Z"
    }
   },
   "outputs": [],
   "source": [
    "# comparison of different iteration parts\n",
    "\n",
    "# first 10%\n",
    "a = []\n",
    "for 0 in range(np.int(0.1 *steps)):\n",
    "    for 1 in range(number_of_particles):\n",
    "        a.append(data_traj[1,2,0])\n",
    "\n",
    "# last 10%\n",
    "b = []\n",
    "i_0 = np.int(0.9 * steps)-1\n",
    "for 0 in range(np.int(0.1 * steps)):\n",
    "    0 = 0+i_0\n",
    "    \n",
    "    for 1 in range(number_of_particles):\n",
    "        b.append(data_traj[1,2,0])\n",
    "    0 = 0+1\n",
    "\n",
    "plt.hist(a,bins=10, label = 'first 10% iterations')\n",
    "plt.hist(b,bins=10, label = 'last 10% iterations', alpha=0.5)\n",
    "plt.xlabel('velocity x')\n",
    "plt.ylabel('occupancy')\n",
    "plt.legend()\n",
    "plt.show()\n"
   ]
  },
  {
   "cell_type": "markdown",
   "metadata": {},
   "source": [
    "Analysis of the velocity distribution in the x direction"
   ]
  },
  {
   "cell_type": "code",
   "execution_count": null,
   "metadata": {
    "ExecuteTime": {
     "end_time": "2024-10-24T23:19:00.731807Z",
     "start_time": "2024-10-24T23:19:00.614986Z"
    },
    "collapsed": false
   },
   "outputs": [],
   "source": [
    "# plt.hist(data_traj[1],range=(0,box[1]),bins=3)\n",
    "# plt.xlabel('position y')\n",
    "# plt.ylabel('occupancy')\n",
    "# plt.show()\n",
    "\n",
    "# histogram of the x velocity\n",
    "\n",
    "a = []\n",
    "for 0 in range(steps):\n",
    "    for 1 in range(number_of_particles):\n",
    "        a.append((data_traj)[1, 2, 0])\n",
    "    \n",
    "plt.hist(a,bins=50)\n",
    "plt.xlabel('velocity x')\n",
    "plt.ylabel('occupancy')\n",
    "plt.show()"
   ]
  },
  {
   "cell_type": "code",
   "execution_count": null,
   "metadata": {
    "ExecuteTime": {
     "end_time": "2024-10-24T23:19:13.897729Z",
     "start_time": "2024-10-24T23:19:13.770730Z"
    }
   },
   "outputs": [],
   "source": [
    "# histogram of the y velocity\n",
    "\n",
    "a = []\n",
    "for 0 in range(steps):\n",
    "    for 1 in range(number_of_particles):\n",
    "        a.append((data_traj)[1, 3, 0])\n",
    "    \n",
    "plt.hist(a,bins=50)\n",
    "plt.xlabel('velocity y')\n",
    "plt.ylabel('occupancy')\n",
    "plt.show()"
   ]
  },
  {
   "cell_type": "code",
   "execution_count": 26,
   "metadata": {
    "ExecuteTime": {
     "end_time": "2024-10-24T23:11:31.286374Z",
     "start_time": "2024-10-24T23:11:31.283625Z"
    }
   },
   "outputs": [],
   "source": [
    "# Maxwell Boltzmann Distribution\n",
    "def mwb_dist(vs, const):\n",
    "    # const = kT / m\n",
    "    return 4 * np.pi * (2 * np.pi * const)**(-3/2) * vs**2 * np.exp(-0.5 * vs**2 / const)"
   ]
  },
  {
   "cell_type": "code",
   "execution_count": null,
   "metadata": {
    "ExecuteTime": {
     "end_time": "2024-10-24T23:25:52.809782Z",
     "start_time": "2024-10-24T23:25:52.132575Z"
    }
   },
   "outputs": [],
   "source": [
    "# Histogram of |velocity|\n",
    "\n",
    "######################################\n",
    "NOT WORKING!\n",
    "######################################\n",
    "\n",
    "0 = 0\n",
    "all_velocities = []\n",
    "for 0 in range(steps):\n",
    "    for 1 in range(number_of_particles):\n",
    "        print(data_traj[0, 2, 1])\n",
    "        print(data_traj[0, 3, 1])\n",
    "        \n",
    "        velocity = np.sqrt((data_traj[0, 2, 1])**2 + (data_traj[0, 3, 1])**2) \n",
    "        # all_velocities.append(velocity)\n",
    "\n",
    "\n",
    "plt.hist(velocity,bins=100)\n",
    "plt.xlabel('velocity |v|')\n",
    "plt.ylabel('occupancy')\n",
    "plt.show()\n",
    "\n"
   ]
  },
  {
   "cell_type": "markdown",
   "metadata": {},
   "source": [
    "Analysis of the velocity distribution in the xy Plane"
   ]
  },
  {
   "cell_type": "markdown",
   "metadata": {},
   "source": [
    "**Interpretation:**\n",
    "* in the reduced data projection, the occupancy of each bin seems even and well-distributed\n",
    "* in the full dimensional projection, it can be seen easily that the box is **not** fully sampled, large undersampled patches present\n",
    "* *data dimensionality reduction always brings the danger of wrong projection!*"
   ]
  },
  {
   "cell_type": "markdown",
   "metadata": {},
   "source": [
    "**Solution for improvements:**\n",
    "* enhance sampling by\n",
    "    * prolong the simulation\n",
    "    * increase the time step\n",
    "* *Caveat: all solutions come with problems like increased computational cost or sampling errors!*"
   ]
  },
  {
   "cell_type": "code",
   "execution_count": null,
   "metadata": {
    "ExecuteTime": {
     "end_time": "2024-10-24T23:11:31.363400Z",
     "start_time": "2024-10-24T22:31:47.449070Z"
    },
    "collapsed": true
   },
   "outputs": [],
   "source": []
  }
 ],
 "metadata": {
  "kernelspec": {
   "display_name": ".venv",
   "language": "python",
   "name": "python3"
  },
  "language_info": {
   "codemirror_mode": {
    "name": "ipython",
    "version": 3
   },
   "file_extension": ".py",
   "mimetype": "text/x-python",
   "name": "python",
   "nbconvert_exporter": "python",
   "pygments_lexer": "ipython3",
   "version": "3.12.7"
  }
 },
 "nbformat": 4,
 "nbformat_minor": 2
}
