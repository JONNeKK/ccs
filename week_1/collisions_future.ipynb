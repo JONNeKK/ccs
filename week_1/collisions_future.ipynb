{
 "cells": [
  {
   "cell_type": "markdown",
   "metadata": {},
   "source": [
    "**Molecular Dynamics simulation routine:**"
   ]
  },
  {
   "cell_type": "markdown",
   "metadata": {},
   "source": [
    "this is some text that explains stuff you do."
   ]
  },
  {
   "cell_type": "markdown",
   "metadata": {},
   "source": [
    "* Import external libraries:"
   ]
  },
  {
   "cell_type": "code",
   "execution_count": 1,
   "metadata": {
    "collapsed": true
   },
   "outputs": [],
   "source": [
    "import matplotlib.pyplot as plt\n",
    "from matplotlib import animation, rc\n",
    "from IPython.display import HTML\n",
    "\n",
    "import copy\n",
    "import numpy as np\n",
    "import scipy as scy"
   ]
  },
  {
   "cell_type": "markdown",
   "metadata": {},
   "source": [
    "* Creating a particle class:"
   ]
  },
  {
   "cell_type": "code",
   "execution_count": 2,
   "metadata": {
    "collapsed": true
   },
   "outputs": [],
   "source": [
    "class Particle:\n",
    "    def __init__(self, r, x, y, vx, vy):\n",
    "        self.r = r\n",
    "        self.x = x\n",
    "        self.y = y\n",
    "        self.coords = [x,y]\n",
    "        self.vx = vx\n",
    "        self.vy = vy\n",
    "        self.v = [vx,vy]\n",
    "        \n",
    "    def __repr__(self):\n",
    "        return str(\"This is a particle at %0.2f, %0.2f with v=%0.2f,%0.2f\" % (self.x,self.y,self.vx,self.vy))"
   ]
  },
  {
   "cell_type": "markdown",
   "metadata": {},
   "source": [
    "* Defining the box:"
   ]
  },
  {
   "cell_type": "code",
   "execution_count": 3,
   "metadata": {
    "collapsed": true
   },
   "outputs": [],
   "source": [
    "box_size_x = 20\n",
    "box_size_y = 20\n",
    "\n",
    "box = [box_size_x,box_size_y]"
   ]
  },
  {
   "cell_type": "code",
   "execution_count": 4,
   "metadata": {},
   "outputs": [],
   "source": [
    "number_of_particles = 2"
   ]
  },
  {
   "cell_type": "markdown",
   "metadata": {},
   "source": [
    "* Initialize velocities:"
   ]
  },
  {
   "cell_type": "code",
   "execution_count": 5,
   "metadata": {
    "collapsed": false
   },
   "outputs": [],
   "source": [
    "vel = np.ones(number_of_particles)*0.5\n",
    "angles = np.random.uniform(0,2*np.pi,number_of_particles)\n"
   ]
  },
  {
   "cell_type": "markdown",
   "metadata": {},
   "source": [
    "* Initialize position:"
   ]
  },
  {
   "cell_type": "code",
   "execution_count": 6,
   "metadata": {
    "collapsed": false
   },
   "outputs": [],
   "source": [
    "x_rand = np.random.randint(1,box[0]-1,number_of_particles)\n",
    "y_rand = np.random.randint(1,box[1]-1,number_of_particles)\n"
   ]
  },
  {
   "cell_type": "markdown",
   "metadata": {
    "collapsed": true
   },
   "source": [
    "* Setting up the particle:"
   ]
  },
  {
   "cell_type": "code",
   "execution_count": 7,
   "metadata": {},
   "outputs": [],
   "source": [
    "particles = []\n",
    "for i in range(number_of_particles):\n",
    "    particles.append(Particle(0.5,x_rand[i],y_rand[i],np.sin(angles[i])*vel[i],np.cos(angles[i])*vel[i]))\n"
   ]
  },
  {
   "cell_type": "markdown",
   "metadata": {},
   "source": [
    "* Defining simulation step numbers"
   ]
  },
  {
   "cell_type": "code",
   "execution_count": 8,
   "metadata": {
    "collapsed": true
   },
   "outputs": [],
   "source": [
    "steps = 50"
   ]
  },
  {
   "cell_type": "markdown",
   "metadata": {},
   "source": [
    "* initialize trajectory:"
   ]
  },
  {
   "cell_type": "code",
   "execution_count": 9,
   "metadata": {
    "collapsed": false,
    "scrolled": true
   },
   "outputs": [
    {
     "data": {
      "text/plain": [
       "(2, 4, 50)"
      ]
     },
     "execution_count": 9,
     "metadata": {},
     "output_type": "execute_result"
    }
   ],
   "source": [
    "data_traj = np.zeros((number_of_particles,4,steps))\n",
    "data_traj.shape"
   ]
  },
  {
   "cell_type": "markdown",
   "metadata": {},
   "source": [
    "* define time integrator for numerical, stepwise solution of equation of motion with a discrete time step $dt$:"
   ]
  },
  {
   "cell_type": "code",
   "execution_count": 11,
   "metadata": {},
   "outputs": [],
   "source": [
    "def move_unbound(p,dt):\n",
    "    p.x = np.mod(p.x + p.vx*dt,box_size_x)\n",
    "    p.y = np.mod(p.y + p.vy*dt,box_size_y)\n",
    "    return p"
   ]
  },
  {
   "cell_type": "markdown",
   "metadata": {},
   "source": [
    "* define box reflection:"
   ]
  },
  {
   "cell_type": "code",
   "execution_count": 105,
   "metadata": {},
   "outputs": [],
   "source": [
    "# https://hermann-baum.de/elastischer_stoss/\n",
    "def collide_boundary(particles,step):\n",
    "    for i in range(len(particles)):\n",
    "        for j in range(len(particles)):\n",
    "            if i < j:\n",
    "                #print(i,j)\n",
    "                distance = np.sqrt(np.abs(particles[i].x-particles[j].x)**2+np.abs(particles[i].y-particles[j].y)**2)\n",
    "                if distance<(particles[i].r+particles[j].r):\n",
    "                    print(step)\n",
    "                    print(particles[i],particles[j],'collided with a distance of ', distance)\n",
    "                    # angle between x-axis and line between particles\n",
    "                    phi = np.arctan((particles[j].y - particles[i].y)/(particles[j].x - particles[i].x))\n",
    "\n",
    "                    # move the particles out\n",
    "                    distance_x = np.sign(particles[j].x-particles[i].x)*((particles[i].r+particles[j].r)-distance)*np.cos(phi)\n",
    "                    distance_y = np.sign(particles[j].y-particles[i].y)*((particles[i].r+particles[j].r)-distance)*np.sin(phi)\n",
    "                    print((particles[i].r+particles[j].r)-distance,phi,np.cos(phi),np.sin(phi))\n",
    "                    print(distance_x,distance_y)\n",
    "                    particles[i].x  = particles[i].x - (distance_x/2)\n",
    "                    particles[i].y  = particles[i].y - (distance_y/2)\n",
    "                    particles[j].x  = particles[j].x + (distance_x/2)\n",
    "                    particles[j].y  = particles[j].y + (distance_y/2)\n",
    "\n",
    "                    # change the velocities\n",
    "                    particles[i].vx = ( particles[i].vx*np.sin(phi)-particles[i].vy*np.cos(phi))*np.sin(phi) + (particles[j].vx*np.cos(phi)+particles[j].vy*np.sin(phi))*np.cos(phi)\n",
    "                    particles[i].vy = (-particles[i].vx*np.sin(phi)+particles[i].vy*np.cos(phi))*np.cos(phi) + (particles[j].vx*np.cos(phi)+particles[j].vy*np.sin(phi))*np.sin(phi)\n",
    "                    particles[j].vx = ( particles[j].vx*np.sin(phi)-particles[j].vy*np.cos(phi))*np.sin(phi) + (particles[i].vx*np.cos(phi)+particles[i].vy*np.sin(phi))*np.cos(phi)\n",
    "                    particles[j].vy = (-particles[j].vx*np.sin(phi)+particles[j].vy*np.cos(phi))*np.cos(phi) + (particles[i].vx*np.cos(phi)+particles[i].vy*np.sin(phi))*np.sin(phi)\n",
    "                    distance = np.sqrt(np.abs(particles[i].x-particles[j].x)**2+np.abs(particles[i].y-particles[j].y)**2)\n",
    "                    print(particles[i],particles[j],'collided with a distance of ', distance)\n",
    "                    "
   ]
  },
  {
   "cell_type": "code",
   "execution_count": null,
   "metadata": {},
   "outputs": [],
   "source": [
    "def search_intersection(p,steps):\n"
   ]
  },
  {
   "cell_type": "code",
   "execution_count": 19,
   "metadata": {},
   "outputs": [
    {
     "name": "stdout",
     "output_type": "stream",
     "text": [
      "[3.23943662 0.32394366]\n"
     ]
    }
   ],
   "source": [
    "def perp( a ) :\n",
    "    b = np.empty_like(a)\n",
    "    b[0] = -a[1]\n",
    "    b[1] = a[0]\n",
    "    return b\n",
    "\n",
    "# line segment a given by endpoints a1, a2\n",
    "# line segment b given by endpoints b1, b2\n",
    "# return \n",
    "def seg_intersect(a1,a2, b1,b2) :\n",
    "    da = a2-a1\n",
    "    db = b2-b1\n",
    "    dp = a1-b1\n",
    "    dap = perp(da)\n",
    "    denom = np.dot( dap, db)\n",
    "    num = np.dot( dap, dp )\n",
    "    return (num / denom)*db + b1\n",
    "\n",
    "p1 = np.array( [0.0, 0.0] )\n",
    "p2 = np.array( [1.0, 0.1] )\n",
    "\n",
    "p3 = np.array( [4.0, -5.0] )\n",
    "p4 = np.array( [3.0, 2.0] )\n",
    "\n",
    "print(seg_intersect( p1,p2, p3,p4))"
   ]
  },
  {
   "cell_type": "code",
   "execution_count": 108,
   "metadata": {},
   "outputs": [],
   "source": [
    "particles[0].x = 5\n",
    "particles[0].y = 10\n",
    "particles[0].vx = 0.4\n",
    "particles[0].vy = 0\n",
    "\n",
    "particles[1].x = 15\n",
    "particles[1].y = 10\n",
    "particles[1].vx = -0.4\n",
    "particles[1].vy = 0"
   ]
  },
  {
   "cell_type": "markdown",
   "metadata": {},
   "source": [
    "* carry out simulation:"
   ]
  },
  {
   "cell_type": "code",
   "execution_count": 109,
   "metadata": {
    "collapsed": false
   },
   "outputs": [
    {
     "name": "stdout",
     "output_type": "stream",
     "text": [
      "11\n",
      "This is a particle at 9.80, 10.00 with v=0.40,0.00 This is a particle at 10.20, 10.00 with v=-0.40,0.00 collided with a distance of  0.3999999999999915\n",
      "0.6000000000000085 0.0 1.0 0.0\n",
      "0.6000000000000085 0.0\n",
      "This is a particle at 9.50, 10.00 with v=-0.40,0.00 This is a particle at 10.50, 10.00 with v=-0.40,0.00 collided with a distance of  1.0\n",
      "25\n",
      "This is a particle at 3.90, 10.00 with v=-0.40,0.00 This is a particle at 4.90, 10.00 with v=-0.40,0.00 collided with a distance of  0.9999999999999996\n",
      "4.440892098500626e-16 0.0 1.0 0.0\n",
      "4.440892098500626e-16 0.0\n",
      "This is a particle at 3.90, 10.00 with v=-0.40,0.00 This is a particle at 4.90, 10.00 with v=-0.40,0.00 collided with a distance of  1.0\n",
      "26\n",
      "This is a particle at 3.50, 10.00 with v=-0.40,0.00 This is a particle at 4.50, 10.00 with v=-0.40,0.00 collided with a distance of  0.9999999999999996\n",
      "4.440892098500626e-16 0.0 1.0 0.0\n",
      "4.440892098500626e-16 0.0\n",
      "This is a particle at 3.50, 10.00 with v=-0.40,0.00 This is a particle at 4.50, 10.00 with v=-0.40,0.00 collided with a distance of  1.0\n",
      "27\n",
      "This is a particle at 3.10, 10.00 with v=-0.40,0.00 This is a particle at 4.10, 10.00 with v=-0.40,0.00 collided with a distance of  0.9999999999999996\n",
      "4.440892098500626e-16 0.0 1.0 0.0\n",
      "4.440892098500626e-16 0.0\n",
      "This is a particle at 3.10, 10.00 with v=-0.40,0.00 This is a particle at 4.10, 10.00 with v=-0.40,0.00 collided with a distance of  1.0\n",
      "38\n",
      "This is a particle at 18.70, 10.00 with v=-0.40,0.00 This is a particle at 19.70, 10.00 with v=-0.40,0.00 collided with a distance of  0.9999999999999964\n",
      "3.552713678800501e-15 0.0 1.0 0.0\n",
      "3.552713678800501e-15 0.0\n",
      "This is a particle at 18.70, 10.00 with v=-0.40,0.00 This is a particle at 19.70, 10.00 with v=-0.40,0.00 collided with a distance of  1.0\n"
     ]
    }
   ],
   "source": [
    "for i in range(steps):\n",
    "    for j in range(number_of_particles):\n",
    "        #move(p1,1)\n",
    "        #reflect(p1)\n",
    "        move_unbound(particles[j],1)\n",
    "    collide_boundary(particles,i)\n",
    "    for j in range(number_of_particles):\n",
    "        data_traj[j,:,i] = [particles[j].x, particles[j].y, particles[j].vx, particles[j].vy]\n",
    "        "
   ]
  },
  {
   "cell_type": "code",
   "execution_count": 110,
   "metadata": {},
   "outputs": [],
   "source": [
    "#data_traj"
   ]
  },
  {
   "cell_type": "markdown",
   "metadata": {},
   "source": [
    "* Plotting trajectory with Matplotlib:"
   ]
  },
  {
   "cell_type": "code",
   "execution_count": 111,
   "metadata": {
    "collapsed": false,
    "scrolled": true
   },
   "outputs": [
    {
     "data": {
      "image/png": "[encoded data removed]",
      "text/plain": [
       "<Figure size 640x480 with 1 Axes>"
      ]
     },
     "metadata": {},
     "output_type": "display_data"
    }
   ],
   "source": [
    "for data_traj_j in data_traj:\n",
    "    plt.plot(data_traj_j[0],data_traj_j[1],'-')\n",
    "plt.xlabel('position x')\n",
    "plt.ylabel('position y')\n",
    "\n",
    "plt.grid()\n",
    "plt.show()"
   ]
  },
  {
   "cell_type": "markdown",
   "metadata": {},
   "source": [
    "**Animate trajectory:**"
   ]
  },
  {
   "cell_type": "markdown",
   "metadata": {},
   "source": [
    "* Set up the figure, the axis, and the plot element we want to animate"
   ]
  },
  {
   "cell_type": "code",
   "execution_count": 112,
   "metadata": {
    "collapsed": false
   },
   "outputs": [
    {
     "data": {
      "image/png": "[encoded data removed]",
      "text/plain": [
       "<Figure size 640x480 with 1 Axes>"
      ]
     },
     "metadata": {},
     "output_type": "display_data"
    }
   ],
   "source": [
    "fig, ax = plt.subplots()\n",
    "\n",
    "ax.set_xlim((0, box[0]))\n",
    "ax.set_ylim((0, box[1]))\n",
    "\n",
    "plt.xlabel('position x')\n",
    "plt.ylabel('position y')\n",
    "\n",
    "dot, = ax.plot([], [], 'bo', ms=5.0)\n"
   ]
  },
  {
   "cell_type": "markdown",
   "metadata": {},
   "source": [
    "* initialization function: plot the background of each frame"
   ]
  },
  {
   "cell_type": "code",
   "execution_count": 113,
   "metadata": {
    "collapsed": true
   },
   "outputs": [],
   "source": [
    "def init():\n",
    "    dot.set_data([], [])\n",
    "    return (dot,)"
   ]
  },
  {
   "cell_type": "code",
   "execution_count": 114,
   "metadata": {},
   "outputs": [
    {
     "data": {
      "text/plain": [
       "array([ 5.8, 14.2])"
      ]
     },
     "execution_count": 114,
     "metadata": {},
     "output_type": "execute_result"
    }
   ],
   "source": [
    "data_traj[:,0,1]"
   ]
  },
  {
   "cell_type": "markdown",
   "metadata": {},
   "source": [
    "* animation function. This is called sequentially"
   ]
  },
  {
   "cell_type": "code",
   "execution_count": 115,
   "metadata": {
    "collapsed": true
   },
   "outputs": [],
   "source": [
    "def animate(i):\n",
    "    x = data_traj[:,0,i]\n",
    "    y = data_traj[:,1,i]\n",
    "    dot.set_data(x, y)\n",
    "    return (dot,)"
   ]
  },
  {
   "cell_type": "markdown",
   "metadata": {},
   "source": [
    "* call the animator. blit=True means only re-draw the parts that have changed."
   ]
  },
  {
   "cell_type": "code",
   "execution_count": 116,
   "metadata": {
    "collapsed": false
   },
   "outputs": [],
   "source": [
    "anim = animation.FuncAnimation(fig, animate, init_func=init,\n",
    "                               frames=steps, interval=60, blit=True)"
   ]
  },
  {
   "cell_type": "code",
   "execution_count": 117,
   "metadata": {
    "collapsed": false
   },
   "outputs": [
    {
     "data": {
      "text/html": [
       "<video width=\"640\" height=\"480\" controls autoplay loop>\n",
       "  <source type=\"video/mp4\" src=\"data:video/mp4;base64,AAAAIGZ0eXBNNFYgAAACAE00ViBpc29taXNvMmF2YzEAAAAIZnJlZQAAaF5tZGF0AAAZNGW4AAQA\n",
       "AHkxQABDkk1JycnJycnJycnJycnJycnJycnJycnJycnJycnJycnJycnJycnJydarrrrrrrrrrrrr\n",
       "rrrrrrrrrrrrrrrrrrrrrrrrrrq66666666666666666666666666666666666666666/+v5DCnA\n",
       "ASE9OFU2+VwRXhH0TiepWLSR6vn/cmbREjGqIvlgGUe54VdJ6kf/8L1Thj/+FPEVJZ4yQygmbeQY\n",
       "CMnO7jpC4bJf0GI6p9PyTnCMgAvC4pRTmTI2+8awwAUPoJzSbY5ri+gAg462VrhmZlqDFZJffKoW\n",
       "EJvuFBYUstzZGZ1rX/AUEOHLuppaCKOVUYMJZ6iSIOJ9W6ya0Z9TqG5Pef54Di+BoDuUayJSgGVd\n",
       "7/Ab5PwSnaPXr81kBUw26kFgCCUHPOAFSIO+yzgrtkL9pJNQMfT5LOFfgAPH6IzkbURmAAFQRxss\n",
       "GiUz/4B8EEAHiZDZCkUonqWkEZ2JJm8pJ9999999999999999999999999998f//+NXP+cPwQQAN\n",
       "yd0M4qMx63eDFXXXV133+P7Smf/VXKq59Vcqri+11111111111111111111111111111x+GlM+qu\n",
       "VVz6q5VXF66666666666666666666666666666666666666666666uv+C/HCFIAgBEcaaK8q/AEW\n",
       "hkIFRPmPKJeBG8SwlaOeP8DG9WyTfgRd2yjvgDtwIcqrgQ2RSb7opmWjSNfsAh2aFTG/mNimKCMb\n",
       "yiQs5wn62iWN+hM75+W7DmpgAGfUjAAYVKHQi+DABcYMwTtPJMIJvvAh6E5byEIUdnc6BrUDclMx\n",
       "6v2QokMWYl63/WHGEwT9McQQ6/GAEMcUmADYyZ2N3w7SFN8sxI+IqoPfI3zhi5n8paMSmN/44KBL\n",
       "mTqwiIAXwhgO4wP1//9f6FIKLT5/FpA4uof7+CvluENyNNjgw+PfHP/9ZMhKULuaaS57tkNhcnCU\n",
       "OaoiSoAjSNMh5SK7KoANBRsG6QYr0xddddddddddddddddddddddddddddddddddddd9/j89KYH8\n",
       "l3JLufJdyS7i9ddddddddddddddddddddddddddddddddddddddddddddddddddddddddddddddd\n",
       "ddddddddddddf8xD+EKQATIAg6fwvhixO/AboGdCUoTHGl1+y4AEtDINd0LVKLP1mFyECseaGcfv\n",
       "g/xw0DAk7glIEF/XU7wwkIs+AHCkcOQ7bQpqSXaF4FYSZg3Cz+vN6AijT1Dl7pJrLVNhgAS/oIyH\n",
       "AqTDi8Hk0bAAEBMAE+FCDr/mkhn4zUMJrmfrkCwc3V4QkHUsVr94eOgIudgqF5D//29OAPblGer1\n",
       "MJf/v+CPhBmxwvrBYU0atCcLkP03/30riYAgFUCvL+8AmgXl4Qk2W8U/+wBjeQlfZemZVAADtBiI\n",
       "G0uGzBAmGygXq5DKP5xNjdSrHg/DFemddddddddddddddddddddddddddddddddddddddddddddd\n",
       "ddddddddddddddddddddddddddddddddddddddddddddddddddddddddddddddddddddddddf9If\n",
       "AcKQAWzoLIBPC1id8B0ZtmAGenAAoNfj/AASd4AMBHxdEGHnD+Q1LTl60Fekv8GHwMM/xG4AsPsp\n",
       "oEUhhSwbw3xgeDE08k0EFYXqf+0J3iREKB0imm/20H8wIKYkoRWTKo/AwBRWAPgACAQAWg6vBXrJ\n",
       "l/PvuB14gqRUmuZXQV/eIPdxPRmo+1LUGHwuAZTVgvHQLYd9omGgUhMeYg8U6/4P6AKcALMO4Cw/\n",
       "kUUnBFwqpqbwfDE5SdIYYbCQsp//VgD4LzUIe2gr5YBGkaZDykV2VQAaCjYN0tTZgAIFGQnLC94b\n",
       "/8P4cFTXrrrrrrrrrrrrrrrrrrrrrrrrrrrrrrrrrrr+Jg7z3id4ADhsTOYe6SJsw4//7axsZOOt\n",
       "yl31jFjK6EDirq336F4QAg3MIOMkZffwGgctYQuFiRLKX/egC4MXO9SF8pr0L+6ZtCSKVWZa9uqS\n",
       "7QbAGUKZBMwAfEWEMPPQYSY8kdgAJImSRMzZMzwG4Ab7QzTREUmQ/57ZtjfqVXcMP66666666666\n",
       "666666666666666666666666666+EweHMjUL8AC4PEqDXrTukRP0C0d2hYDWJWZs7BtAZcgCO1yl\n",
       "NuozGq1nYKrKUEn760KRSUBfHuut0CBAbfzRbNqWgIN3Rifs+toj3E/7qIAPvOgA4N4/HfAAN9sc\n",
       "oEhTR9//2k6YAAgBe8BhTcOP94RGjJOoAHBrtW7NQ//zgh4AJkAQdP4XwxYnfgN0DOhKUJjjS6//\n",
       "X4V4CAfQI7/bvG2FMFdI3AQUlxbmdrf+vwAJf0EZDgVJhxe/+H4IPrBYU0atCcLkP03/3CXXXXXX\n",
       "XX//fPDvAAiL5KZtJ2lsVRQcGRfPesHZD1I5HcfeEmicAVmMhDv3gFX907jHv6666666666666//\n",
       "/c4d8ACIvkpm0n2lsVRQcGRfPegdkPUjkdx8FNk8AJcyWMwuJ9xr6666666666666+IhhhDDcABG\n",
       "F2Q5FOQd2LKfwFegdt+TRBIx5bg/ARXHzx8tXthIpQLke9wP5AQ7NdRdEjyvGNApbGYGxqyBGUMs\n",
       "qvfQACEdVIMtaEPahBT+ByYGMbTYeaaMag6ABRxyXNwqtMGCWBKoOeQ5BRRjTWuAU0RjWAcTn0OO\n",
       "I//agg5Ey5uOUY9t/vgH4Bw//ZcACWhkGu6FqlFn6zC5CBWPNDOP30TTYk/4S281IQAQCMPqm/vK\n",
       "D0YBVLgQ581xpACBZlUEEF8tP/7SCIHLkksKaxyQ39vwjQLVQA6H+I4/+8BGgIscgVC5yI/2nAHt\n",
       "yjPV6mNf/rowQrDDxXKuJgCAVUAr33wE0C8vGJNlvEP/uGzBAmGygXy5DKf6g7RWFPlopgwAY3kJ\n",
       "X2XpmVQAA7QYiB9IYYh6wa3pnXrrrrrrr2I1SYePhrySHbNRax6qge1cPOSuR3AFXZKPQiCvwBKL\n",
       "s5BJh30fpERERUQZzi/+vCCDKKA7sDtGiHSqcIPm5uMiAjKQGfv9CeTj709dddddddddddfaZIof\n",
       "HQa+SQ7ZqLWPVVtXDzkrkdwHAlF2cgkw76AFXZKPQiCvx5CZCJLUA4TUm0FAgADIBjwoKaMAHNoj\n",
       "BP0FOdsMRNkA8KYZ4Y5oKL70/rrrrrrrrrrrr573OewMd4CzDB3QeY/oK84X940DBCLgslrXFBxv\n",
       "/3g142ffFEMsgwnOsAUdxHEkpY/FNKjAAEAQLMXJz0MWpBBczrZzJJv93ywYKRNHlNqCkiHfrAxn\n",
       "dq/+T8FEiutJAACAji8ggIYZM9awQYiIIYGlUdK6v/0AAgJN2A6/nVTWIVG+jUKRj9v8sNdddddd\n",
       "ddddddddddddddddddLXXXXXXXXXXXXXwgo//CXYGcSJthBre5/7/Z5AAei2AQrs2ggRkEIYzH6N\n",
       "bRP8dgDtttttttsBuAb7RkvKlxYYf///8cMK8ACuOkOGnZFJurL30GMRtEp/S2GAw/222GpRbStL\n",
       "iBAAYAAgEAE6wdgAIAQYsosoosos0osos3/wAh8Qud6ggAtXYfrrrrrrrrrrrrrrrrrrrrrrrrrr\n",
       "rrrrrrrrrrrrj/wJjA3F0WcccmgTkyHKBAVdMQBTnb/eAAVumnzrWhESoRD8UfF0i/gwDtitZXYH\n",
       "gRAymsPAJAtqrExoFcnSuNEP6D//+KQiOHDhLwxK6WZhhsoCSP/+xVRNhsdGe1yOVwM8ZOGkbwj/\n",
       "r+4EDTMhDA4AcnENH+XJ2VQAA5QYmBtIMV6YvXXXXXXXXXXXXXXXXXXXXXXXXXXXXXXXXXXXXXXX\n",
       "XXXXXXXXXXXXXXXXXXXXXXXXXXXXXXXXXXXXXX/8QjjCsABXIQIJ6rNL+iyh/xgtih3M/UK/yXey\n",
       "VcOwkpQvSj9vaATjejByd0l2Fj7/+DAARAZSDKuf2BNSDRH5YIsUIHpq9xHVn4agfhCvizIQc0wm\n",
       "yNcgn//B2YNoQpVgMHddfgANkzaIWUqsyqAGgoyDdJdddddddddddddddddddddddddddddddddd\n",
       "dddeMQoH/hLxFjKgzeYWWDPGfcgSDlxryLB0sF7/4MOxOMAA8AkSMi7q80BCFxOdRxdctfh34f/h\n",
       "L7CMoqLeslQZ12bwYcMSrRxvr9dddddddddddddddddddddddddddddddddddddddddddddddddd\n",
       "ddddddddddddddddddddddddddf/1EwzhWAAjB9HJBlcwxYL8Z9gcBrTC0iSXV5wV0RnQmhQOkQw\n",
       "v1wG9wJMinlmVkSbP/BgMIADAAEAgAnWBgKtrXnu+fw0AU4QrAB7NojDBeFZC6vByHwxK6VMww2U\n",
       "BJH/+xVRNg2Pme1gDk4ho/y5OyqAAHKDEwPpLrrrrrrrrrrrrrrrrrrrrrrrrrrrrrrrrrrrrrzE\n",
       "dh/8JQBD56gUI+QgQokXwf4Q91N2TsoyWf/gw8IGU1h4BIFtOqwTGgVydM40Q3/X/luH/wl5HK4G\n",
       "JGThpGsI/4HDhwVNdddddddddddddddddddddddddddddddddddddddddddddddddddddddddddd\n",
       "dddddddddddddddddfxws4UtvgARBbiKY+if18JDHLWEJIWThgARF8lM2k9kgiZx4SkgvG337RoN\n",
       "daINQnMUw/gVhB/EIM50P+/3xMNNGsvU4Mg0DpUjNoeR5aWQAJYDjUKQgYP/Xk2QT4ZJK36hIvDi\n",
       "ABrQYQzWEbP/P/AIZJwfF/j4SCJTPKLFZTB8YfW/lGPGXoFobSIuhHFmtmN2ix6NWK4oqzfvf4B1\n",
       "uOgj6W5gCZM2iFlKrMqgBoKMg3SDErpxv/B4BwQQAfMhkcMxuILCTniYbAABkAPEyA0yDuQX3x+A\n",
       "AgZjHOcxjGOc4im//8BwABAVABoHLP+N/wQdOGW33x+AAgZjHOcRSlLW1im//4V3A4ABkAFAbcff\n",
       "fH4ACBHOYxxFLWpbWKb//gcAAQFQAYdc333x+AAgRzmMcxjnMc5jH/+FdzDgAGQAUBtzfffH4ACB\n",
       "nMcxjHOYxjmOf/4HAAEBUAGHXPvvvj8ABAzmOYxjnMYxzHP/4V3A4ABkAFAbc++++PwAECMcxzGO\n",
       "Y5zHMc//gcAAQFQAYdc/ffH4aUz4V3JLufdCFdwdp1M/9gf+uuuuuuPwBgticW0Ui2ttoDItZHMX\n",
       "VOd4nBVonmhJvYYemY4QokbBTy2LtXacybXh/8CyucJkiBfi8SipRPLNF5VBhgARF8lM2k/6gKhW\n",
       "Db6nDBK7+/AImR0xdUuX744BAfYwEETtQPLVTiGuxohU9vAAMjlUOE30Md/7zeHJVIMedMhMOIOB\n",
       "JvqnTUjjFewMkMoxxoNJ2it7/7i+YgSIltwE7ZtjXqVXdQ+y8lb0tyAqFcN7iEZWKVK7/IXRi6t0\n",
       "dQ7fMgBAPsYGPuYYFJ1KBQu+siyc/BZfcBTqiDf+8h7hNtUastIwhXjNg9OgGaKjEnb8H9wJvRFd\n",
       "EKl5Ib7/4m44hLfgAEVcYLRhZI5EXfvIAPoxpPmVMr5wFY2ci3pBLIeT/BwEyMzQmznVmfwELfic\n",
       "+YggQXLYB//uIGDft0FRtyk0vQfdIQz7jBi5ZFtYnGAAeASJGRd1Qw+oB8Jw4ADMwiAgnquUk9Fm\n",
       "DvhiZiSXM/1KSl6vZc+FUSUQE8Sdh7AEoj2KUlLiyl//nkWeHhl4w0kFIF+ATFC1ZeugCIaM7Lrx\n",
       "+AoF0Q0vgAX0BHrUoDwOJEUDKgByyAGBcSjvsAG7ZtjXqVXdf1NtAhMWekowkAXVNA6+MY4xPaYT\n",
       "jiOc9Uma14Tv7RkhLSQoHSMYb/d52BGDWabTzGl0Maz3W++TC/ADjsw0SEX/OEkGio4fTYtK2mA2\n",
       "nOInvZJD0O/AACAabk47rEsrWWF24cFQKBSRaVJ3wKe/cYm12dv+1O0YCAvXo4pUiABgD5GASc4Y\n",
       "6YMiTyceZoMSYAR1llvPz3/rrx+OzAHvgBiAAEBmygBAiAneACcIXDirJ2QWdo3AAH0Y0nzKmV8o\n",
       "xQMAD4gGED0++5ZQ8N9/wKH0E5b7Y5bnQgJJMQu0Cr/4BeABE8o6V7EnW/6/bAIDbdhzQYAzgFQp\n",
       "hKjWpCCZCmJmfFgAKgINdVg8RWN5wKAiAnf0RD//CfBBKoHFpW8oguybtfwKHCXIhunKcaZL4PhA\n",
       "cOV0AIkJW1NOUG/H9fhwpwAOfBPUcPBRhffAHIDwonCOkMJc+r5gEIQxMAAbTGqCKpJ6yiifIhiL\n",
       "lVGLJ0SaoV4BdCF0QJJf8TfwRMcDpEML+sCQ4OeIrK7Set74AG7ZtjXqVXdQwTAAiL5KZtJ3oGQM\n",
       "AOCsFHT93k6CwAgDqArv95pQNUoUUvSUtK3/7g6IxEj17X5DggrgUpEAwLkYPXcvjgEB9jAQRO1s\n",
       "gyKsgdufqdc/BJ/7gcrMN//u5+SIARGE/qAqFYNvqcMErv78AiZHTF1S5fvAAMjlUOE30Md/7zeH\n",
       "JVIMedMhMOIOBJvqnTUjjFe94RhLlnD2/4Tgg9Y/phUOFOABUkOUgFukF8Big3/731G0s6TOjRwA\n",
       "BAAqeUBRUCQ1AFOwaESLitJUpMiw8WM4qnHh3SN+84iAAUcLwAfRjSfMqZXy6ipRA38o2WMREe+0\n",
       "ZidPbhLc1/7hikMABXIQIJ6rNL+iyh/3IxriEzi+hG6xgTd3B2LUqh5/vEB93cYq4RISe0f/wMEY\n",
       "PZgYwyQa1/slXDsJKUL0o/b2JBxQFQMlFybr1cRYyoM3mFlgrxf0YD//Cf8YLYodzP1Cv8lwegE4\n",
       "3owcndJdhY+//v5AkHLjXkWDpYL3/wb8fqHgkL8ADnwT1HDwUYX32AcgPCicI6Qwlz6vHkgELdbo\n",
       "+TxIm/AAbTGqCKpJ6yiiTAIQhiZpks0DFQpS2E+7yIYi5VRiydEmqFeMKiLbSG68o1jvuAPuH0S+\n",
       "ADds2xr1KruvurYD1ugEDZkBhcOABEXyUzaT1AVCsG31OGCV39+44EoURxDkypjnBH/u001tabca\n",
       "ALBJHt7UKTeIs7SYDqchhwmOGv718cAgPsYCCJ2uvfswYCfe4AGOfgk/9wOVmH//3EHgk31TpaRx\n",
       "ifc/pb8J8BEyOmLqly8PzeHJVIIedMhcA/tBEtE6LlVkkhvJkfoFYAHfgAVJDlIBbpBfAYoN/+/f\n",
       "UbS2pGzAABAZADBQrLaNHAAEACp5QFFQgKdg0IkXFaSpSZEDYA4P4ZDy7cU1yzFiFHYQaGffvveE\n",
       "GiI8NMiWEEEHPAREAaXDcAH0Y0nzKmV8oxThhC08dTuONP0fpB4ACuQgQT1WaX9FlD/jBbFDuZ+o\n",
       "V/ku6EJIics0Hb+DDAAJBxQFQMlFyb71eyVcOwkpQvSj9vaATjejByd0l2Fj7/+4ixlQZvMLLBXi\n",
       "/uQJBy415Fg6WC9/8sU34/R4V0S+AA8NSMYvrg8CGG//YyzgXhUZyzmD3/8BMjNoRM51Iz4AKhaC\n",
       "aejedvfv/wwJbgCG6Wh+uYm1/6AArBiIm5tITAoIMf3BDKh0CO4gI+133/+yLsPleAIEtv7L/HQA\n",
       "Nd/QAOtqNkw8UWREkPfcg5g1zFUX4QJV/YmHPYAFAuAA3bNsa9Sq7qHhJo6ZN2/////gATIOAY0T\n",
       "u2qHLCf/3jGRyL50gkkPJp4fKCOmCz3eeDKUbkJTNZQ1pudyOHJf2GszBUcIq067eyIWYcNjdEI/\n",
       "v+SiCvMAAIAX6JEdWaUGFrxHW1ZpXV/b5A2d1YAzAtK0ysF111JXXXfeGuu+8Ndd/vDXXeG8P/8B\n",
       "M0hXAAbIxriEznchHjKmdDFjqCO+mAyaa9aeAVRJG0DB/SWEhr7jzBrDsBNiZ1f78MKjMQhXx2Qx\n",
       "lbGPEvaZerjIg0qmchX1IgRlDLLXRIEt/Ob0HyimB34zVI/vfZDGVsY0SQ0zsGiXRzColrcQCi4O\n",
       "q+oJxDv9sdAGyCMJUcYf91gGMKwFQPj6hqLCfrwqi1YoDEO1q0ueX98bACAccmRoAAuAeZBqnOCo\n",
       "EGi1Cl6tvXUDUZBokskxxI/BgLjdEpBBTiE6tq2H+sAPCsG4iDxJDzHvH4BXwXIh6Rxyse0QI1kw\n",
       "CjFYEsTvctRrErsZSr//+PiEh3qCLYtYPLdkGeFGEMNr//meWFYAGJGwkTJLSGNvcjGqEJnO5CPs\n",
       "ycaNbT+cAvhcRaW4BEb5d96mjSG3Uis6hliZ33hvDXfeG8Nd99dd4b/XXXXXXXXXXXXXXXXXXXXX\n",
       "8JM//CXgArCXCoaQ0hp6vcMhuEa3cpoVCxXvoIQRSWpUy/C/0uU5KbMcU64OTD4f8JdMOilPeuB7\n",
       "2ckb/aOCJoJnKtDYv/3/CCYC3oK4iHznc9ARo0YM1B5xn7w+AxD/wl02WJ1EJI9BJX/e0CcrAWDU\n",
       "ClSEUur/AGEqHrwbW2p8M9A2EtXiUsJJqfsqGHfDD/wl8wyn5zoJpGI7f5lud6NC4U+XfBh44Ti7\n",
       "EOU9qp/x+AhUQBgpORhJppJoGjIhIodaeMsd72AGFZdmz75kL8P/jGkYrmyvmxww/+uuuuuuuuuu\n",
       "uuuuuuvAAAABu2HgAEAAvkeA8+KOAGPq/n9+t/8osAGJu7mu7x+AFihTxfWXL/gR7wP4e/hpP9hK\n",
       "3QH82vEw8mL71Dam/+Mz/cI2eA8O+AD7+q/f/X3wS8kNsc/BoG3AAQ2Z3dmZnd2Z//+ADh1kJQOS\n",
       "FMfrADvABGKzeiRs+b/xD2C3gLNohtH6BGls//BhLScKLFYVHYHvyVjA3gAIbM7uzMzu7M///ABw\n",
       "6yEoHJCmP1gB3gAjFZvRI2fN/4h7BbwFm0Q2j9AjS2f/gwlpOFFisKjsD35Kxp/5YAFz+1S/v/r/\n",
       "jDfafx0CzBciUJnhavf0CUZFMhkglNb/9ggAEZ7gCYKy4UY7iD/O/Dp9/DMAAAQi4AKSIgYfqw8t\n",
       "zhDlXhqnIwAlMG/yffawgACQYooB3eDKNsIowQ/9/yce+M4awUkRAQJlYKAE3IEl0zcV2cUBpII/\n",
       "vggAEZ7gCYKy4UY7iD/O/CvvwcBmAAAIRcAFJEQMP1YeW5whyrw1TkYASmDf5PvtYQABIMUUA7vB\n",
       "lGzCKMEP/b79KCP40/BZy8VwC2c3isRzcVxHL4rEcvFcby8AHZf3K/vb5/PxPLAHsm9P38DRAAAB\n",
       "M2HgAIABPkDeAI+P5v/9zh3wAGyZtCbKVWZfUVvNKxQCgIm//QKZED3ESxab4IjVnMjABzMNk5xi\n",
       "0J9wRN7Bhv/vnh3gANkzaE2Uqsy6it5pWKAUBE3/6wUyIHuIli033hI8zgBlCMsEU9e7QDZXp001\n",
       "gha2c/DR/Naborx/Qa+RM98Sgtce5FtJoGhRLWxLgOAaJrK+YRGHl4AgVlZs9QghZ+eIIxmzH6OA\n",
       "uEGiAgABADAAgSIBEaOACjcQRRl2gse5bFmZVIC0WOe8MEvQeb1TPtvxhmc1QDj/Qa8iZ74lBa49\n",
       "yIHtJoGhRLWxLgCBWVmz1CCFn4AaJrK+YRGHl4H5CYjEbZoPBJJIYQABQACGAQEj7gTRoaMeipeK\n",
       "OrSXODYgYj3BD9/iDMUTWPZg/8/AEewAAAFDYeAAwAG+QE+AI/O+b/44YLeABaAawaWEWBpMLMCH\n",
       "/gAk5SGCqx+sCpsl2ggBKYgAuACiDg+sXhwufffghtSp4o3//GC7gAWgGsGlhFgaTCzAh/4AJOUh\n",
       "gqsfrAqbJdoIAnOYBHgAog4PrF4cLn33BDalTneHD/wrAghEkEUKNcxoYAFIAAARN/gE5CBPgW9h\n",
       "AtEDJQEfAQ+avwy1eS4AVTg5/AAUQiSCKPD+Y0Ipwfffb97eDCAAECIAAQDACAsEAnKcCcc6iRmm\n",
       "yPFL3gZX0iLQi/w2hzF8Ub2n/4LIIJjEgzn4TGuAoAhFMSOYUqBULOxb8CHzW/QdavJNzLuCAACA\n",
       "aACEQLmBOOdRIzTZCRTF78FZDgsvDbgAIbuV3dylKVylKABxCJIIo8P9jQifv32/e2f//wAoDf/p\n",
       "EWhBh/gCPoAAAAG6YeABAAI+QGeAJAN//3gu4ACYmKUrCM5JKWMTpAFeUGi2EgFgNTlv9BAE5zAI\n",
       "8AG0wIc2hjBFX/a4Ba2Snk3/n9gt4IjAhDUaMTaXVvvAa4C5oxLyPkKjsH3O1xAbwAIj9V/X//wA\n",
       "HxMUpWEZySUsYvABm39Xn++b/3P2C36QBXlBothIBYDU5b/QIjAhDUaMTaXVvggARWMAFwMqGcOQ\n",
       "qfPGF0G/AEn0yx88PG9iNf9As+SAhC7+laH44I+XAOyAlICsLGXXaVcAQAunGZz9UUINneBAACBO\n",
       "AAIBQB4WCAJzHgKUhSDscbo1N8UOYzWEX6UhiX7/hmANgCBGzCX0BmeeAAmAIw/BBinCPUnOiIP4\n",
       "ilpawwgADQGFNBLb4JuhdArig4h9wKBh4ym5hif8Rw19IBAjYS+gG554AHAW/eaACF7RBdImOasW\n",
       "ysEAAjPcATAygbymDFjF7pFz8BHayz7/AoBmAAAI3cAbAECNmEvoDM88ABMAR+QArRTKemGJAwAC\n",
       "dwAj8EGKcI9Sc6Ig/iKWlrCAAEDQAAQGAAoEggBFW3iG4TnEJWUCcFwgQBh622WQZTb/z8AR9AAA\n",
       "ATVh4AFAAr5Ad4AkA/m//xCHfAAsQHXQyKz1wIkI+WHX/mAIIUkgwJWw7tYenWkrIMKAPhhLWAA8\n",
       "NWMIktuqOILJzYQGOIzYiw6x32AM23qB4UNk0wOEG//xCHfAAsQHXQyKz1wIkI+WHX/mAIIUkgwJ\n",
       "Ww7tYenWkrIMKAPhhLWAA8NWMIktuqOILJzYQGOIzYiw6x32AM23qB4UNk0wOneHj/Aoz4of/Rym\n",
       "y0/EGtOkPjoNYIAQhjoFOO4I0y5AEAIKYVTShZKQlFY3hZjOgAOgSIk4I/wawKqmn+8ACA6lntQA\n",
       "Zza1BWElaf8TeZgACAcAAIB37oAMDgQABEAAQRiQABAKAwABWAugxLda+FUcOtngEX+0NGFwpQlF\n",
       "MoTGB4/9/TGO2LOEeovrqjIYcf7/nwwBH8AAAAE7YeABgAM+QHeAJBgSZ68OJfz8CTPXAHNWtx63\n",
       "ff5g3gAIAAIBoAIDDp06cOHDh06dOHDv//AAcGKQSYEey7pYfLQfIgQBOcwCPABmCAhxObEGHWe+\n",
       "4Am2bSA6b/z+wW/wYCsaGX5l/CgopNmJiGEC7MALgLjRzCpKbijyCyA8ZG1rB7wQc9YAtkhrYw7t\n",
       "i/334aW//hnGfB5N55CcyAMpNT4rP+/z//Nw1AAWDFKuDygUF+8sjYnAAAEkv+iayOMSqi8ADA61\n",
       "HsAN5parAAB0kAC/8EAAIFYAAgHACQwEATmPAkkUTC1CEUCpMWHb/34yjZEMMX3+BQDP3AxSrg8w\n",
       "CQQ7yyEoBXD8AAxyyQj1Dwxn8Uxg9IY2hhAACAsAAwHCwQLu+gjYe1cJq4cbPAIP9/58pmhhXqP+\n",
       "AJAgAAAA3GHgAcADvkB3gCQT/Ao5jf/HPDvAAcoUKLYEPpvS1eRPnLzABaBxY7pXDlYw+zY+KaNT\n",
       "X8///8eEAARDkFAbvAA4sGIeayEjCx9VgZfrncf7ADWuZiwPfO8EB/XrsmM06S/8NfNgBhb3SkEh\n",
       "DfhlpgNX4GGLErMpb0nItI6cE/MAFIHFj+lcOVjDrVj40AYU/P12AX1IdQ8B2MAynA7xZPLZFtzw\n",
       "gABAWAAEB4BAKBAIqWgKwyAqizGPPA/YmXGPWYy7lpxwc9tYQLfwwLbT5CjHMDILNzGZ/z8ASBAA\n",
       "AADOYeACAAQ+QHeAJCP8CjkN//zgu4ACAxSCTAj2XdLD5aD5EOvgwFY0OvzL+FBRScMzEIAAkHLK\n",
       "CUnwADFAuicMJ7NCc3fcATdqMRdvneCI/r5LhXAAWDFKuDygUF+8sjYn/omsjjEqooAAAkl/cDFK\n",
       "uDygJBDnLITgFfgAYHWo9gBvNLVYAAOkgAX/vAAMcskI9Q8MZ/FMYPSGNoQAAgsgACCMAAeASCAA\n",
       "JApRYAFObTQlIXsLwQ99CjrQgEyGz7wMb00BS+QQtlXfncMASDAAAAEKYeACQAS+QHeAJDgUfAo6\n",
       "DeAAgMRjWtYxjGtaxjf/+ABZQoUWwIfTelq8ifAVtPAAeMyCZTl7GIUvATfp9Jv/E/YLeAOAC0Di\n",
       "x3SuHKxh9mztTTU1+f//+CAAR3OAF7KZAMOKmTIF2v9r8pZGTnngk98NYA+ADA5cQouwDOJJAAHg\n",
       "Ad/AYEEpkE7SndcBbcISATQgABAFAEDSgRMj8DIjnWAhQkSV5pDWHDZ0NMokn+BQDMAAASS4A7AB\n",
       "gcuIUboATxJIAAyAh8wAUgcXJLcUuBQBfTB75mByU+PEeV5b29I3IIAAQPAABAgABgNBAAI7W8Dn\n",
       "EYU4sXYqsZCQuDG6728iZBhb9/wBIUAAAADoYeACgAU+QHeAJDP8Cjo3/+eHfAAQGKQSYEey7pYf\n",
       "LQfIh1/BgKxodfmX8KCik4ZmIYSAPBhLWADMEBDic2IMOs98AuNHMKkpuKPILIwBNs2kBwyNrWD0\n",
       "7wSH9euqNYTgf/QagALBilXB5gKC/eWhsT7QGfwqgoTvO2971pGmRoxKqL4AGDtUawgavNSCwMls\n",
       "+mHyItAHAV6Px9Zfv8ADCml0woQSmJR2NYmIYQABAAAQRiAABAKA4ABWgoEkjiYWoQikVJjA9f+0\n",
       "EJT7Vwurhxs8Ag/3DDCH3ZEMMP9PlMecK9R/z8ASFAAAAJth4ALABb5Ad4AkRYZnrwAg3sjU//bu\n",
       "Gk5SN/8cMFvAAsQHXQyKz1wIkI+WHX/gAghSSDAlbDu1h6daSsggACYcooKm8AAhULgnLCejQnP3\n",
       "34AmzWYi7f4Jl54QDi4sAGBtoymIrD8vUS83t/+79Ff8MzwltoFe+bH5yt4f8MTwwA4jOILOzqJe\n",
       "X1/twFf9mPynbWQdFxZVkOAJDgAAAcJh4AMABj5Ad4AkMN4ACaTbSSbaT//4ADsTHFXxBHNPaQQv\n",
       "ABm2+V5/vm/9z9gt/CAC6nAStko0AEgClJ7/WQwjheslGyDbd8EAATDlFAC4GVAxTzGSkaWPqN+A\n",
       "Gl8jFwe+b//c4d8ABGJjir4gjmntIIb6IALqcBK0o0AEgC1J//QIhhHC9ZKNkHW74IAAgHJKA+eA\n",
       "DNt8rz/AZUDFPMZKRpY+o3ADS+Ri4PTvBLw1+TABAYuYWXgAT1JIAAwAh8yAxKPHH2D4c9ekTkEA\n",
       "ATDFlAEwHUAz6iHHhz+1hGHAGEUamIz+BJhmAAAJJcAbABAYuYWXQBnUkgAD4AO/IAFaHFST3BLo\n",
       "UAX0ge/AQEEJEErTnZcBfcISCSwgABBOAAEDIABwHAgACIUknhBlBFFGNecB+hMuLgxvebXTFWOc\n",
       "f+a0wRX/0GvxIAgh+/jPAviQ6i22QBOYDuFlMtkG3AGAMwAQS+0tBAQ14XZ4ADAAunCEIL1wggKu\n",
       "cPAQMKcSwo7vyYZwXNXgQAAgdgACCQACQHggAh2FgOkOupYceHP7YEeEGUEUUY15wH6EzAwBMvxQ\n",
       "BhFGrEZse3TFWKc/53DAEhwAAAHbYeADQAa+QHeAJDN//iEO+ABYgOuhkVnrgRIR8sOv/MAQQpJB\n",
       "gSth3aw9OtJWQYUAfDCWsAB4asYRJbdUcQWTmwgMcRmxFh1jvsAZtvUDwobJpgdDbgAIDEY1rWMY\n",
       "xrWsY3//gAWUKFFsCH03pavInwFbT+AA8ZkEynL2MQpfwE36fSb/xP2C3gDgAtA4sd0rhysYfZs7\n",
       "U01Nfn///ggAEdzgBeymQDDipkyBdr/a/KWRk554JjWnSHx0GsEAIQx0CnHcEaZcgCAEFMKppQsl\n",
       "ISisbwsxnQAHQJEScEf4NYFVTT/eABAdSz2oAM5tagrCStP+JvMwABAOAAEA790AGBwIAAiAAIIx\n",
       "IAAgFAYAArAXQYlutfCqOHWzwCL/aGjC4UoSimUJjA8f+/pjHbFnCPUX11RkMOP9/8HAawB8AGBy\n",
       "4hRdgGcSSAAPAA7+AwIJTIJ2lO64C24QkAmhAACAOAQPIBEyMGBbqM2xwMiOLsHFHgUbTKAr4fhs\n",
       "6GmUST/AgBmAAAJJcAdgAwOXEKN0AJ4kkAAZAQ+YAKQOLkluKXAoAvpg98zA5KfHiPK8t7ekbkEA\n",
       "AIHgAAgRAAoHAgAEdreBziMKcWLsVWMhIXFiKN1728iZBhb9/wBIkAAAAc5h4AOABz5Ad4AkI3//\n",
       "eC7gAIxMcVfEEc09pBDdEAF1OAlaUaACQBak//oIACO9wCPABfIwEHFyJEC7f+1wB2jMlPJv/P7B\n",
       "bwRDCOF6yUbIOt33hLScBcyMJ1MXMchSB7bu30+b//PDvgAIDFIJMCPZd0sPloPkQ6/gwFY0OvzL\n",
       "+FBRScMzEMJAHgwlrABmCAhxObEGHWe+AXGjmFSU3FHkFkYAm2bSA4ZG1rB6d4JeGvkwAQGLmFl4\n",
       "AE9SSAAMAIQAABJL8yAxKPHH2D4c9ekTl5AArQ4qSe4JdCgC+kD2EAAIHoAAgQAA0HAgAI7GwFFM\n",
       "KwtxQu5VcyEhfGawi/RIgwl+/UCBhmANgAgMXMLLoAzqSQAB8AHYfgICCEiCVpzsuAvuEJBJYYQA\n",
       "AgCACBhIITM+BEVjpAUoQJKs0hoCMNHNdjXKLJ//CsABYMUq4PKBQX7yyNicAAASS/6JrI4xKqLw\n",
       "AMDrUewA3mlqsAAHSQAL/3uBilXB5gEgh3lkJQCuH4ABjlkhHqHhjP4pjB6QxtDCAAIAACCMQAAI\n",
       "BQHAAK0OBJIomFqEIoFSYsO3/tBGw9q4TVw42eAQf4PxlGyIYYvp8pmhhXqP+fgCRIAAAAGfYeAD\n",
       "wAe+QHeAJCN/8cMFvAAsQHXQyKz1wIkI+WHX/gAghSSDAlbDu1h6daSsggACYcooKm8AAhULgnLC\n",
       "ejQnP334AmzWYi7f83//CC7gAOUKFFsCH03pavInzl5gAtA4sd0rhysYfZsQgACQcsoBHgAcWDEP\n",
       "NZCRhY+q3ADWuZiwPQ24ACSaaTTaab//hCcwquJI9pzSCQ/XBl+udx/v/gmM06S/8NQQAhDHQKcd\n",
       "wRplwZ0AQAgphVNKFkpCUVjeFn4AEB1LPagAzm1qCsJK0AAdAkRJwR/g1gVVNP8GHCAAEC4AAQHg\n",
       "BgMBAAjraApj18LOxCQTMbPvefkzbEhidhC2hhjAPEEPTq7Pp/N7T+PQLPmwAwt7pSCQhvwy0wGr\n",
       "8DDFiVmUt6TkWkdOCfmACkDix/SuHKxh1qxCAAEE8AAQMAAGgcCAAIBSHglwwyAqizGPPA/YiXGM\n",
       "t/rAttPkKMKo/wIAZ+bABgcuIUboATxJIAAyAhD5mByU+PEeV5b29I3IMIAAkGKKAd62Aj+inHBz\n",
       "21hAMOMgs3MZn/AEiwAAAbRh4AQACD5Ad4AkE3/+5w74ACMTHFXxBHNPaQQ30QAXU4CVpRoAJAFq\n",
       "T/+gRDCOF6yUbIOt3wQABAOSUB88AGbb5Xn+AyoGKeYyUjSx9RuAGl8jFwenfN/8/gt4ACAxSCTA\n",
       "j2XdLD5aD5EOvgwFY0OvzL+FBRScMzEIAAmHKKCpvAAMUC6Jwwns0Jzd9+AJu1GIu3/PwSywr+TA\n",
       "BAYuYWXgAT1JIAAwAh8yAxKPHH2D4c9ekTkAAAMCSXAGwAgZ8w96gGIqLAAGQAf+QAK0OKknuCXQ\n",
       "oAvpA9+AgIISIJWnOy4DO4QkMlhAACB2AAIIwAJAJBABBWFgOoBn1EOPDn9rCPCDKCKKMa84D9CZ\n",
       "cXBjegDCKNTEZm10xVjnH/Db+AQ7inue4sosp5ZRYcPAAmDFKuDzAUF+8tDby0jTI0YlVPh4QkZI\n",
       "YAFONk0JTF7Cw/HNPwIAZgAACSX9wMUq4PMAkEO8shKAV+ABgdaj2AG80tVgAA6SABf+8AAxyyQj\n",
       "1Dwxn8Uxg9IY2hAACC4AAIIQAAgBAOBAAEw5ZfBD30KOtCATIbPvC58b3FL5BC2Vd/5+AJFgAAAB\n",
       "02HgBEAIvkB3gCQA3gAIAAwEGOuuuOOOOuuuOO//8ADxAddDIrPXAiQj5Y/4EF3YBHgAPDVjCJLb\n",
       "qjiCyeAM23qB6b/xD2C3gCCFJIMCVsO7WHp1pK2DCAE5jAC+bCAxxGbEWHWO+/FDZNMDvm//wOHf\n",
       "AAcoUKLYEPpvS1eRPnL8wAWgcWO6Vw5WMPs2OKaNTX8///8BAEOsoD54ADxmQTKcvYxClspkAw4q\n",
       "ZMgXa/2sBN+n0KWRk55PwS8NYCIEIVUHFA4EOsshIAV/gAEOUQO/QRcZfFEYPSENoQAAgLgAMB4s\n",
       "EF2foM3GtfCKOHWzwCL/fjHbJDCPUf4OAzAAAEkuAAyBCFVRxgLC/WWhuT8ACA6lntAM5tajAAB0\n",
       "lAC/9/xbzPY+q8IAAQLgABAKAGBYIATnPoaILhShKKJQmLDp/4GBbqM2x/311RkMOP9/5rTpCPDQ\n",
       "a/NgBhb3SkEhDfhlph8DDFiVmUt6TkWkdOCY1fjQBhT8/XYBfUh1Dx5gApA4sf0rhysYdaseZgcl\n",
       "PjxH3Qt9egoOAIAAQFwABBIA8AkEBBeN4GRHF2DihIorzRGvA5xGFEFi7FVjIQFwZf+EK2hpFE9L\n",
       "2LkTIGFv3/PhgCRoAAAB4GHgBIAJPkB3gCQDf/fPDvAARiY4q+II5p7SCG6IALqcBK0o0AEgC1J/\n",
       "/WCIYRwvWSjZB1u+8IAQ6igN3gAvkYCDi5EiBdv/aAXMjCdTFzHIUmAO0Zkp427t9IbwAEAAEA0A\n",
       "EBh06dOHDhw6dOnDh3//gAODFIJMCPZd0sPloPkQIAnOYBHDABmCAhxObEGHWe+/AE2zaQHTf+f2\n",
       "C3+DAVjQy/Mv4UFFJsxMQwgXZgBcBcaOYVJTcUeQWQHjI2tYPeCYzAapP/oNfEgCCH7+M8C+JDqL\n",
       "YB2QBOYDuFlMtkG3ABgAXThCEF64QQFXOAAzABBL7S0EBDXhdngH4EGKEKMJYwlIvI2bEQwgABAW\n",
       "AAEEYDgCQQCC+aAophWFuKF3KrmQkL+BEVhcg8oQKKs0hoW/hhFPokQYS/X+mxrlF9P+b7Cf+gWQ\n",
       "AFgxSrg8wFBfvLQ2J9oDOsKoOE7ztve9aRpkaMSqi+ABg7VGsIGrzUgsDJbOEAAIFYAAgGACQwEA\n",
       "TmONboSOJhahCKRUqND1/7w+MMd2RGAI93+BADP3AxSrg8wCQQ7yyEoBXD8AAxyyQj1Dwxn8Uxg9\n",
       "IY2hhAACAsAAQDhYIF3fQRsPauE1cONngEH+wfD58pmhhXqP+AJHgAAAAZBh4ATACb5Ad4Aj83//\n",
       "GC7gAWIDroZFZ64ESEfLDr/wAQQpJBgSth3aw9OtJWQQABIOWUEpPgAEKhcE5YT0aE5++4AmzWYi\n",
       "7fO+b/454d4ADlChRbAh9N6WryJ85eYALQOLHdK4crGH2bHxTRqa/n///jwgACIcgoDd4AHFgxDz\n",
       "WQkYWPqsDL9c7j/YAa1zMWB753gl4agIgQhVQcUDgQ6yyEgBXAAAEkv4ABDlEDv0EXGXxRGD0hDb\n",
       "wAIDqWe0Azm1qMAAHSUAL/wQAAgvgACCEAAIAoDgQABIOUXAUx6+FnUhIJmNn3sb2KHiCFoq78yS\n",
       "//sFcAB0CREnBG+DWBVU0/wYcIkRPPyZtiQxOwgYfPp+Zp0l/4a+bADC3ulIJCG/DLTAavwMMWJW\n",
       "ZS3pORaR04J+YAKQOLH9K4crGHWrHxoAwp+frsAvqQ6h4DsYBlOB3iyeWyLbnhAACAsAAIDwCAUC\n",
       "ARUtAVhkBVFmMeeB+xMuMesxl3LTjg57awgW/hgW2nyFGOYGQWbmMz/n4AkeAAABsWHgBQAKPkB3\n",
       "gCPg3gAJpNtJJtpP//gAOxMcVfEEc09pBC8AGbb5Xn++b/3P2C38IALqcBK2SjQASAKUnv9ZDCOF\n",
       "6yUbINt3wQABMOUUALgZUDFPMZKRpY+o34AaXyMXB75v/+cF3AAQGKQSYEey7pYfLQfIh18GArGh\n",
       "1+ZfwoKKThmYhAAEg5ZQSk+AAYoF0ThhPZoTm77gCbtRiLt87wS8NfkwAQGLmFl4AE9SSAAMAIfM\n",
       "gMSjxx9g+HPXpE5BAAEwxZQBMB1AM+ohx4c/tYRhwBhFGpiM/wIAZgAACSXAGwAQGLmFl0AZ1JIA\n",
       "A+ADvyABWhxUk9wS6FAF9IHvwEBBCRBK052XAX3CEgksIAAQTgABAyAAYB4IAAiFJJ4QZQRRRjXn\n",
       "AfoTLi4Y0b3za6Yqxzj/+FcABYMUq4PKBQX7yyNif+iayOMSqigAACSX9wMUq4PMAkEO8shKAV+A\n",
       "Bgdaj2AG80tVgAA6SABf+8AAxyyQj1Dwxn8Uxg9IY2hAACCyAAIIwAB4BIIAAkClFgAU5tNCUhew\n",
       "vBD30KOtCATIbPvAxvTQFL5BC2Vd+dwwBJEAAAHaYeAFQAq+QHeAI+N//iEO+ABYgOuhkVnrgRIR\n",
       "8sOv/MAQQpJBgSth3aw9OtJWQYUAfDCWsAB4asYRJbdUcQWTmwgMcRmxFh1jvsAZtvUDwobJpgdD\n",
       "bgAIDEY1rWMYxrWsY3//gAWUKFFsCH03pavInwFbT+AA8ZkEynL2MQpfwE36fSb/xP2C3gDgAtA4\n",
       "sd0rhysYfZs7U01Nfn///ggAEdzgBeymQDDipkyBdr/a/KWRk554JjWnSHx0GsEAIQx0CnHcEaZc\n",
       "gCAEFMKppQslISisbwsxnQAHQJEScEf4NYFVTT/eABAdSz2oAM5tagrCStP+JvMwABAOAAEA790A\n",
       "GBwIAAiAAIIxIAAgFAYAArAXQYlutfCqOHWzwCL/aGjC4UoSimUJjA8f+/pjHbFnCPUX11RkMOP9\n",
       "/8HAawB8AGBy4hRdgGcSSAAPAA7+AwIJTIJ2lO64C24QkAmhAACASAQPIBEyMGBbqM2xwMiOdYCF\n",
       "CRJXmkNfD8NnQ0yiSf4EAMwAABJLgDsAGBy4hRugBPEkgADICHzABSBxcktxS4FAF9MHvmYHJT48\n",
       "R5Xlvb0jcggABA8AAECAAFA4EAAjtbwOcRhTixdiqxkJC4Y0br3t5EyDC37/gCSYAAABzmHgBYAL\n",
       "PkB3gCPTf/94LuAAjExxV8QRzT2kEN0QAXU4CVpRoAJAFqT/+ggAI73AI8AF8jAQcXIkQLt/7XAH\n",
       "aMyU8m/8/sFvBEMI4XrJRsg63feEtJwFzIwnUxcxyFIHtu7fT5v/88O+AAgMUgkwI9l3Sw+Wg+RD\n",
       "r+DAVjQ6/Mv4UFFJwzMQwkAeDCWsAGYICHE5sQYdZ74BcaOYVJTcUeQWRgCbZtIDhkbWsHp3gl4a\n",
       "+TABAYuYWXgAT1JIAAwAhAAAEkvzIDEo8cfYPhz16ROXkACtDipJ7gl0KAL6QPYQAAgegACBAADQ\n",
       "cCAAjsbAUUwrC3FC7lVzISF8ZrCL9EiDCX79QIGGYA2ACAxcwsugDOpJAAHwAdh+AgIISIJWnOy4\n",
       "C+4QkElhhAACAIAIGEghMz4ERWOkBShAkqzSGgIw0c12Ncosn/8KwAFgxSrg8oFBfvLI2JwAABJL\n",
       "/omsjjEqovAAwOtR7ADeaWqwAAdJAAv/e4GKVcHmASCHeWQlAK4fgAGOWSEeoeGM/imMHpDG0MIA\n",
       "AgAAIIxAAAgFAcAArQ4EkiiYWoQigVJiw7f+0EbD2rhNXDjZ4BB/g/GUbIhhi+nymaGFeo/5+AJJ\n",
       "gAAAAbth4AXAC75Ad4Aj03/xzw7wAHKFCi2BD6b0tXkT5y8wAWgcWO6Vw5WMPs2PimjU1/P///Hh\n",
       "AAEQ5BQG7wAOLBiHmshIwsfVYGX653H+wA1rmYsD3zf/8WC7gAOUKFFsCH03pavInzl5gAtA4sd0\n",
       "rhysYfZsQgACQcsoBH8ADiwYh5rISMLH1W4Aa1zMWB6G3AASTTSabTTf/8ITmFVxJHtOaQSH64Mv\n",
       "1zuP9/8ExmnSX/hr5sAMLe6UgkIb8MtMBq/AwxYlZlLek5FpHTgn5gApA4sf0rhysYdasfGgDCn5\n",
       "+uwC+pDqHgOxgGU4HeLJ5bItueEAAICwAAgPAIBQIBFS0BWGQFUWYx54H7Ey4x6zGXctOODntrCB\n",
       "b+GBbafIUY5gZBZuYzP+b2n/0Cz5sAMLe6UgkIb8MtMBq/AwxYlZlLek5FpHTgn5gApA4sf0rhys\n",
       "YdasQgABBPAAEDIABoHAgACAUgkaM8MMgKospjzwP2JmBjLf9tAttPkKIUx/gQAz82ADA5cQo3QA\n",
       "niSQABkBCHzMDkp8eI8ry3t6RuQYQABIMUUA71sBH9FOODntrCAYcZBZuYzP+AJKgAAAAY5h4AYA\n",
       "DD5Ad4Ajw3//OC7gAIDFIJMCPZd0sPloPkQ6+DAVjQ6/Mv4UFFJwzMQgACQcsoJSfAAMUC6Jwwns\n",
       "0Jzd9wBN2oxF2+d83/z+C3gAIDFIJMCPZd0sPloPkQ6+DAVjQ6/Mv4UFFJwzMQgACYcooKm8AAxQ\n",
       "LonDCezQnN334Am7UYi7f8/BLcK4ACwYpVweUCgv3lkbE/9E1kcYlVFAAAEkv7gYpVweUBIIc5ZC\n",
       "cAr8ADA61HsAN5parAAB0kAC/94ABjlkhHqHhjP4pjB6QxtCAAEFkAAQRgADwCQQABIFKLAApzaa\n",
       "EpC9heCHvoUdaEAmQ2feBjemgKXyCFsq78we0PjsFmAAmJRcjy1GFjmDLZj60jTI0YlVFCEjJDAA\n",
       "pxsmhKYvYWH45p+BADMAAASS/uBilXB5gEgh3lkJQCvwAMDrUewA3mlqsAAHSQAL/3gAGOWSEeoe\n",
       "GM/imMHpDG0IAAQXAABBCAAEAIBwIAAmHLL4Ie+hR1oQCZDZ94XPje4pfIIWyrv/PwBJUAAAAdhh\n",
       "4AZADL5Ad4AjsN4ACAxGNa1jGMa1rGN//4AFlChRbAh9N6WryJ8BW08AB4zIJlOXsYhS8BN+n0m/\n",
       "8T9gt4A4ALQOLHdK4crGH2bO1NNTX5///4IABHc4AXspkAw4qZMgXa/2vylkZOefN//ucO+AAjEx\n",
       "xV8QRzT2kEN9EAF1OAlaUaACQBak//oEQwjheslGyDrd8EAAQDklAfPABm2+V5/gMqBinmMlI0sf\n",
       "UbgBpfIxcHp3gl4awB8AGBy4hRdgGcSSAAPAA7+AwIJTIJ2lO64C24QkAmhAACAKAIGlAiZH4GRH\n",
       "OsBChIkrzSGsOGzoaZRJP8CAGYAAAklwB2ADA5cQo3QAniSQABkBD5gApA4uSW4pcCgC+mD3zMDk\n",
       "p8eI8ry3t6RuQQAAgeAACBAACgcCAAR2t4HOIwpxYuxVYyEhcMaN1728iZBhb9/+wr+TABAYuYWX\n",
       "gAT1JIAAwAh8yAxKPHH2D4c9ekTkAAAJJcAbABAYuYWXQBnUkgAD4AO/IAFaHFST3BLoUAX0ge/A\n",
       "QEEJEErTnZcBfcISCSwgABA7AAEEYAEgEggAgrC+lAM+ohx4c/tYR4QZQRRRjXnAfoTLi4Mb0AYR\n",
       "RqYjM2umKsc4/53DAElwAAAB2GHgBoANPkB3gCOzf/54d8ABAYpBJgR7Lulh8tB8iHX8GArGh1+Z\n",
       "fwoKKThmYhhIA8GEtYAMwQEOJzYgw6z3wC40cwqSm4o8gsjAE2zaQHDI2tYPQ24ACAAMBBjrrrjj\n",
       "jjrrrjjv//AA8QHXQyKz1wIkI+WP+BBd2ARwwAHhqxhElt1RxBZP4AzbeoHpv/EPYLeAIIUkgwJW\n",
       "w7tYenWkrYMIATmMAL5sIDHEZsRYdY778UNk0wO8ExrCcD/6DUABYMUq4PMBQX7y0NifaAz+FUFC\n",
       "d523vetI0yNGJVRfAAwdqjWEDV5qQWBktn0w+RFoA4CvR+PrL9/gAYU0umFCCUxKOxrExDCAAIAA\n",
       "CCMQAAIBQHAAK0FAkkcTC1CEUipMYHr/2ghKfauF1cONngEH+4YYQ+7Ihhh/p8pjzhXqP+b7T+Og\n",
       "WYIAhDHUKcdwRplyAIAQUwqmlCSUhCKxvCzCAAEBcABgPFggJWfc1oMS3WvBVHDrp4BF/v7Ggx9s\n",
       "SOE9Z/YOAzAAAEkuAAoEIVUHGAsL9ZaG5PwAIDqWe0Azm1qMAAHSUAL/3/FvM9j6rwgABAsAAEAo\n",
       "AYFggBOc+hoguFKEoolCYsOn/ggi6jNsP+dmjIYcvv+AJMgAAAHSYeAGwA2+QHeAI6N//xgu4ADl\n",
       "ChRbAh9N6WryJ85eYALQOLHdK4crGH2bEIAAkHLKAR4AHFgxDzWQkYWPqtwA1rmYsD0NuAAkmmk0\n",
       "2mm//4QnMKriSPac0gkP1wZfrncf7/83/3zw7wAEYmOKviCOae0ghuiAC6nAStKNABIAtSf/1giG\n",
       "EcL1ko2QdbvvCAEOooDd4AL5GAg4uRIgXb/2gFzIwnUxcxyFJgDtGZKeNu7fSfgl4a+eADA5cQou\n",
       "wDOJJAAHgAdgAACSX8BgQSmQTtKd1wFtwhIBN8wAUgcXJLcUuBQBfTB7CAAEE8AAQMgAGgcCAAIB\n",
       "SCYCsMgKosxjzwP2JlxfG9gy3yFGOYf4EAM/NgAwOXEKN0AJ4kkAAZAQh8zA5KfHiPK8t7ekbkGE\n",
       "AASDFFAO62Ai+inHBzm1hA8OMgs3MZn/8K/JgAgMXMLLwAJ6kkAAYAQgAACSX5kBiUeOPsHw569I\n",
       "nLyABWhxUk9wS6FAF9IHsAbABAYuYWXQBnUkgAD4AOw/AQEEJEErTnZcBfcISCSwwgABAWAAEEYD\n",
       "gCQQILpoCimFYW4oXcquZCQv4ERWOkBShAkqzSGgzUMIv0SIMJfprsa5RZP+fgCTIAAAAZph4AcA\n",
       "Dj5Ad4Ajo3/z+C3gAIDFIJMCPZd0sPloPkQ6+DAVjQ6/Mv4UFFJwzMQgACYcooKm8AAxQLonDCez\n",
       "QnN334Am7UYi7f83//GC7gAWIDroZFZ64ESEfLDr/wAQQpJBgSth3aw9OtJWQQABIOWUEpPgAEKh\n",
       "cE5YT0aE5++4AmzWYi7fO8EobwAEAh3FPc9xZRZTyyi/gATBilXB5gKC/eWht5aRpkaMSqnw8ISM\n",
       "mABTjZNCUxewsOOafgQAzAAAEkv7gYpVweYBIId5ZCUAr8ADA61HsAN5parAAB0kAC/94ABjlkhH\n",
       "qHhjP4pjB6QxtCAAEFwAAQQgABACAcCAAJhyy+CHvoUdaEAmQ2feDGje4pfIIWyrv/4agIgQhVQc\n",
       "UDgQ6yyEgBXAAAEkv4ABDlEDv0EXGXxRGD0hDbwAIDqWe0Azm1qMAAHSUAL/wQAAgvgACCEAAIAo\n",
       "DgQABIOUXAUx6+FnUhIJmNn3sb2KHiCFoq78yS//sFcAB0CREnBG+DWBVU0/wYcIkRPPyZtiQxOw\n",
       "gYfPp8ASbAAAAclh4AdADr5Ad4Ajk3/+Jw74ADlChRbAh9N6WryJ85fmAC0Dix3SuHKxh9mxxTRq\n",
       "a/n///gIAh1lAfPAAeMyCZTl7GIUtlMgGHFTJkC7X+1gJv0+hSyMnPIbwAE0m2kk20n//+AA7Exx\n",
       "V8QRzT2kEL+ADNt8rz/f5v/c/YLfwgAupwErZKNABIApSe/1kMI4XrJRsg23fBAAEw5RQAuBlQMU\n",
       "8xkpGlj6jfgBpfIxcHvBMa06Q+Gg1+bADC3ulIJCG/DLTD4GGLErMpb0nItI6cExq/GgDCn5+uwC\n",
       "+pDqHjzABSBxY/pXDlYw61Y8zA5KfHiPuhb69BQcAQAAgLgACCMB4BIICC8bwMiOLsHFCRRXmkNe\n",
       "BziMKcWLsVWMhIXBl/4QraGmUT0vY8iZBhb9/8CAGvyYAIDFzCy8ACepJAAGAEPmQGJR44+wfDnr\n",
       "0icggACYYsoAkY3pQDPqIceHP7WEcPwBhFGpiM/wIAZgAACSXAGwAQGLmFl0AZ1JIAA+ADvyABWh\n",
       "xUk9wS6FAF9IHvwEBBCRBK052XAX3CEgksIAAQTgABAyAAYB4IAAiFJJ4QZQRRRjXnAfoTLi4Y0b\n",
       "3za6Yqxzj/z8ASbAAAAB0WHgB4APPkB3gCOA3gAIAAIBoAIDDp06cOHDh06dOHDv//AAcGKQSYEe\n",
       "y7pYfLQfIgQBOcwCPABmCAhxObEGHWe+4Am2bSA6b/z+wW/wYCsaGX5l/CgopNmJiGEC7MALgLjR\n",
       "zCpKbijyCyA8ZG1rB75v/8Qh3wALEB10Mis9cCJCPlh1/5gCCFJIMCVsO7WHp1pKyDCgD4YS1gAP\n",
       "DVjCJLbqjiCyc2EBjiM2IsOsd9gDNt6geFDZNMDp3gl4agALBilXB5QKC/eWRsTgAACSX/RNZHGJ\n",
       "VReABgdaj2AG80tVgAA6SABf+CAAECsAAQDgBIYCAJzHgSSKJhahCKBUmLDt/78ZRsiGGL7/AgBn\n",
       "7gYpVweYBIId5ZCUArh+AAY5ZIR6h4Yz+KYwekMbQwgABAWAAYDhYIF3fQRsPauE1cONngEH+wf/\n",
       "nymaGFeo//hXARAhCqg4oHAh1lkJACv8AAhyiB36CLjL4ojB6QhtAAAEkuAAoEIVUHGAsL9ZaG5P\n",
       "wAIDqWe0Azm1qMAAHSUAL/3/FvM9j6rwgACIAAgjEgACAUBgACsD6DNxrXwijh1s8Ai/2hoguFKE\n",
       "oolCYsOn/v8Y7ZIYR6idmjIYcvv+fDAEnQAAAcBh4AfAD75Ad4Ajg3/xzw7wAHKFCi2BD6b0tXkT\n",
       "5y8wAWgcWO6Vw5WMPs2PimjU1/P///HhAAEQ5BQG7wAOLBiHmshIwsfVYGX653H+wA1rmYsD3zf/\n",
       "92C7gAIxMcVfEEc09pBDdEAF1OAlaUaACQBak//oIACO9wCP4AL5GAg4uRIgXb/2uAO0Zkp5N/5/\n",
       "YLeCIYRwvWSjZB1u+8JaTgLmRhOpi5jkKQPbd2+ngmM06S/8NfNgBhb3SkEhDfhlpgNX4GGLErMp\n",
       "b0nItI6cE/MAFIHFj+lcOVjDrVj40AYU/P12AX1IdQ8B2MAynA7xZPLZFtzwgABAWAAEB4BAKBAI\n",
       "qWgKwyAqizGPPA/YmXGPWYy7lpxwc9tYQLfwwLbT5CjHMDILNzGZ/zewGv+gWfEgCCH7+M8C+JDq\n",
       "LYB2QBOYDuFlMtkG3ABgAXThCEF64QQFXOAQAAgegACBAADQaCAAjsaNGQFFMKwthQu5VcyEhfLf\n",
       "9tCKXokhhL9/gQAzAGwAQGLmFl0AZ1JIAA+ADsPwEBBCRBK052XAX3CEgksMIAAQBABAwoEJmfAi\n",
       "Kx0gKUIElWaQ0DDzXY1yiyf8ASfAAAABc2HgCAAQPkB3gCNzf/84LuAAgMUgkwI9l3Sw+Wg+RDr4\n",
       "MBWNDr8y/hQUUnDMxCAAJByyglJ8AAxQLonDCezQnN33AE3ajEXb53zf/HDBbwALEB10Mis9cCJC\n",
       "Plh1/4AIIUkgwJWw7tYenWkrIIAAmHKKCpvAAIVC4Jywno0Jz99+AJs1mIu3/PwS3CuAAsGKVcHl\n",
       "AoL95ZGxP/RNZHGJVRQAABJL+4GKVcHlASCHOWQnAK/AAwOtR7ADeaWqwAAdJAAv/eAAY5ZIR6h4\n",
       "Yz+KYwekMbQgABBZAAEEYAA8AkEAASBSiwAKc2mhKQvYXgh76FHWhAJkNn3gY3poCl8ghbKu/O4c\n",
       "zTpL/w1BACEMdApx3BGmXBnQBACCmFU0oWSkJRWN4WfgAQHUs9qADObWoKwkrQAB0CREnBH+DWBV\n",
       "U0/wYcIAAQLgABAeAGAwEACOtoCmPXws7EJBMxs+95+TNsSGJ2ELaGGMA8QQ9Ors+n8/AEnwAAAB\n",
       "2WHgCEAQvkB3gCNjB//4MIOzH4ADlChRbAh9N6WryJ85BW08AB4zIJlOXsYhS8BN+n0m/8D9gt/m\n",
       "AC0Dix3SuHKxh9mxxTRqa/n///gIABHc4AXspkAw4qZMgXa/2vylkZOefN//ucO+AAjExxV8QRzT\n",
       "2kEN9EAF1OAlaUaACQBak//oEQwjheslGyDrd8EAAQDklAfPABm2+V5/gMqBinmMlI0sfUbgBpfI\n",
       "xcHp3gl4dg7MQdmPzwAYHLiFF2AZxJIAA8ADv4DAglMgnaU7rgLbhCQCaDsxB2YhAACAKAIGlAiZ\n",
       "H4GRHOsBChIkrzSGsOGzoaZRJP8CAGYAAAklwB2ADA5cQo3QAniSQABkBD5gApA4uSW4pcCgC+mD\n",
       "3zMDkp8eI8ry3t6RuQQAAgeAACBAACgcCAAR2t4HOIwpxYuxVYyEhcMaN1728iZBhb9//Cv5MAEB\n",
       "i5hZeABPUkgADACHzIDEo8cfYPhz16ROQAAAklwBsAEBi5hZdAGdSSAAPgA78gAVocVJPcEuhQBf\n",
       "SB78BAQQkQStOdlwF9whIJLCAAEDsAAQRgASASCACCsL6UAz6iHHhz+1hHhBlBFFGNecB+hMuLgx\n",
       "vQBhFGpiMza6Yqxzj/ncMAShAAAB0WHgCIARPkB3gCNlwQhjwAEDOEeYEey3pYfLQfIh19BgVVjI\n",
       "LP3Ag/Hyy6/88JAHgwlrABmCAhxObEGHWe+AiecxzhG4o8gsjAE220gOGRWmmD0NuAAgADAQY666\n",
       "4444666447//wAPEB10Mis9cCJCPlj/gQXdgEcMAB4asYRJbdUcQWT+AM23qB6b/xD2C3gCCFJIM\n",
       "CVsO7WHp1pK2DCAE5jAC+bCAxxGbEWHWO+/FDZNMDvBMoEHCsABYMUq4PKBQV7yyNiUAAASS/6Jr\n",
       "I5iVU/AAwOtR7ADeaWqwAAdJAAv/e4GKVcHmASCHeWQlAK4fgAGOWSEeoeGM/imMHpDG0MIAAgAA\n",
       "IIxAAAgEAcAArQUCSRRMLUIRQKkxYdv/aCNh7Vgurhxs8Ag/3+Mo2RDDF9PlGaMA3qP+b7T/0CzB\n",
       "AEIY6hTjuCNMuQBACCmFU0oSSkIRWN4WYQAAgLgAMB4sEBdn/QYlutfCqOHWzwCL/f4wx9sWUJ6z\n",
       "+wcBmAAAJJcABQIQqoOMBYX6y0NyfgAQHUs9oBnNrUYAAOkoAX/v+LeZ7H1XhAACBYAAIBQAwLBA\n",
       "Cc59DRBcKUJRRKExYdP/BBF1GbYf87NGQw5ff8ASjAAAAX5h4AjAEb5Ad4AjZcEOb/752HeAAjEx\n",
       "xV8QRzT2kEN0QAXU4CVpRoAJAFqT/+sEQwjheslGyDrd94QAh1FAbvABfIwEHFyJEC7f+0AuZGE6\n",
       "mLmOQpMAdozJTxt3b6T8OG+H/eHMG9B8ABGJjir4gjmntIIbwgAvzgJXwwkAPAEoRP/BAAR3uAR4\n",
       "AH8jwEHEyJEC7f+uAWmZKeCjrmYDVJ/9Br4kAQQ/fxngXxIdRbAOyAJzAdwsplsg24AMAC6cIQgv\n",
       "XCCAq5wAGYAIJfaWggIa8Ls8A/AgxQhRhLGEpF5GzYiGEAAICwAAgjAcASCAQXzQFFMKwtxQu5Vc\n",
       "yEhfwIisLkHlCBRVmkNC38MIp9EiDCX6/02Ncovp/z8OIKcL/JgAgMXMLLoAb1JIAAkB2IAAIcIA\n",
       "Ai3scyAxKPHH1jYc9evGryABXhxVE70AAP4kgC2wfwy6grUAQAAgegACBAACwaCACKxsCRQ4hbih\n",
       "dS65kICtdawi/RIgwl++AI1gAAABdWHgCQASPkB3gCNuHOABYgOmBkVnrgRIR8sOv/ABCFJIMH+w\n",
       "7tYeLQfIp1CAAJByygEeAAQqFwTlhXRoRn77gBlN2Non07w6uCEN8ACxAdMDIrPXAiQj5Ydf+ACE\n",
       "KSQYP9h3aw8Wg+RTqEAATDlFAbvAAIVC4Jusno0Iz99+AJs1mIu3+K4agIgQhVQcUDgQ6yyEgBXA\n",
       "AAEkv4ABDlEDv0EXGXxRGD0hDbwAIDqWe0Azm1qMAAHSUAL/wQAAgvgACCEAAIAoDgQABIOUXAUx\n",
       "6+FnUhIJmNn3sb2KHiCFoq78yS//sFcAB0CREnBG+DWBVU0/wYcIkRPPyZtiQxOwgYfPp8OmZzFA\n",
       "L/w1BAEYM6hTjuCNMuA2AIAQUwqmlCSUhCKxvCz8ACA6lntQAZza1BOMlbAAOgSIk4I/wawKqmn+\n",
       "Dfxm4bwgABAuAAEB4AYDAQAI62gKY9fCzsQkEzGz73n5M2xIYnYQtoYYwDxBD06uz6fgCNYAAAGP\n",
       "YeAJQBK+QHeAI2XBCG+AAjIBAKrEkALYHDFeDJKOPBUgUUwfeu6HF5E9cggAEdzgBcACxdAvlsM1\n",
       "5YQX8fgDI9GXLvDpv/9zh3wAEYmOKviCOae0ghvogAupwErSjQASALUn/9AiGEcL1ko2QdbvggAC\n",
       "AckoD54AM23yvP8BlQMU8xkpGlj6jcANL5GLg9cEPFJgQcMzAEAAQDAABBGAAEMlM8sAEBi5hZdA\n",
       "GdSSAAPgA7AB2TAAEAYHxIsSW7FT4FLwFXwEBBCRBK052XAX3CEgksIAAQPAABAeABQNBAAjteBA\n",
       "D5gynSNgDcakgRBg2TRjdASFWv5f+fhyWFfyYAIDFzCy8ACepJAAGAEPmQGJR44+wfDnr0icgAAB\n",
       "JLgDYAQM+YeSoBiKiwABkACHyABWhxUk9wS6FAF9IHvwEBBCRBK052XAZ3CEhksIAAQOwABBGABI\n",
       "BIIAIKwsB1AM+ohx4c/tYR4QZQRRRjXnAfoTLi4Mb0AYRRqYjM2umKsc4/49wxmhsdjfwicIAjWA\n",
       "AAAB22HgCYATPkB3gCNlwQw4G8ABAAGAgx111xxxx111xx3//gAeIDroZFZ64ESEfLH/Agu7AI8A\n",
       "B4asYRJbdUcQWTwBm29QPTf+IewW8AQQpJBgSth3aw9OtJWwYQAnMYAXzYQGOIzYiw6x334obJpg\n",
       "d/hjwAHKOFFsCH03ZavInjl+YALQOLoluKXARAUUxh8QnMKriSPaY0gloQBDrKKsAB4zIJFKXsYh\n",
       "S2UyAYcVMmQLtf7WBN6faKWjF54KOsOcNYCIEIVUHFA4EOsshIAV/gAEOUQO/QRcZfFEYPSENoQA\n",
       "AgLgAMB4sEF2foM3GtfCKOHWzwCL/fjHbJDCPUf4OAzAAAEkuAAyBCFVRxgLC/WWhuT8ACA6lntA\n",
       "M5tajAAB0lAC/9/xbzPY+q8IAAQLgABAKAGBYIATnPoaILhShKKJQmLDp/4GBbqM2x/311RkMOP9\n",
       "//Cv54AMDlxCi7AM4kkAAeAB38BgQSmQTtKd1wFtwhIBNAAAEkv5sAGBy4hRugBPEkgADICHzABS\n",
       "BxcktxS4FAF9MHvmYHJT48R5Xlvb0lcggABAXAAEEYDwCQQQVBvAyI51gIUJEleaQ14HOIwpxYux\n",
       "VYyEhcGN1DZ0NMokl7eRMgx79/gCNYAAAAHgYeAJwBO+QHeAJSN/988O8ABGJjir4gjmntIIbogA\n",
       "upwErSjQASALUn/9YIhhHC9ZKNkHW77wgBDqKA3eAC+RgIOLkSIF2/9oBcyMJ1MXMchSYA7RmSnj\n",
       "bu30hvAAQAAQDQAQGHTp04cOHDp06cOHf/+AA4MUgkwI9l3Sw+Wg+RAgCc5gEcMAGYICHE5sQYdZ\n",
       "778ATbNpAdXBCG/oMCqsZBZ+4EH4+WXX/nhAuzFWBE85jnCNxR5BZAeZeuY28ExmA1Sf/Qa+JAEE\n",
       "P38Z4F8SHUWwDsgCcwHcLKZbINuADAAunCEIL1wggKucABmACCX2loICGvC7PAPwIMUIUYSxhKRe\n",
       "Rs2IhhAACAsAAIIwHAEggEF80BRTCsLcULuVXMhIX8CIrC5B5QgUVZpDQt/DCKfRIgwl+v9NjXKL\n",
       "6f832E/9AsgALBilXB5gKC/eWhsT7QGVYVQcJ3nLe960jTI0YlVF4ADArVGsIGrzUWBktp/+CAAE\n",
       "CsAAQDABIYCAJzHGt0JHEwtQhFIqVGh6/94fGGO7IjAEe79QIMDAGfuBilXB5gEgh3lkJQCuH4AB\n",
       "jlkhHqHhjP4pjB6QxtDCAAEBYABgOFggF3LoI2HtWC6uHGzwCD/eGStedGaGF9Z/wBGsAAABlGHg\n",
       "CgAUPkB3gCUTf/8YLuABYgOuhkVnrgRIR8sOv/ABBCkkGBK2HdrD060lZBAAEg5ZQSk+AAQqFwTl\n",
       "hPRoTn77gCbNZiLt875v/jnh3gAOUKFFsCH03pavInzl5gAtA4sd0rhysYfZsfFNGpr+f//+PCAA\n",
       "IhyCgN3gAcWDEPNZCRhY+qwMv1zuP9gBrXMxYHvuCHgl4agIgQhVQcUDgQ6yyEgBXAAAEkv4ABDl\n",
       "EDv0EXGXxRGD0hDbwAIDqWe0Azm1qMAAHSUAL/wQAAgvgACCEAAIAoDgQABIOUXAUx6+FnUhIJmN\n",
       "n3sb2KHiCFoq78yS//sFcAB0CREnBG+DWBVU0/wYcIkRPPyZtiQxOwgYfPp+Zp0l/4a+bADC3ulI\n",
       "JCG/DLTAavwMMWJWZS3pORaR04J+YAKQOLH9K4crGHWrHxoAwp+frsAvqQ6h4DsYBlOB3iyeWyLb\n",
       "nhAACAsAAIDwCAUCARUtAVhkBVFmMeeB+xMuMesxl3LTjg57awgW/hgW2nyFGOYGQWbmMz/i+AsB\n",
       "YAjWAAABsWHgCkAUvkB3gCUA3gAJpNtJJtpP//gAOxMcVfEEc09pBC8AGbb5Xn++b/3P2C38IALq\n",
       "cBK2SjQASAKUnv9ZDCOF6yUbINt3wQABMOUUALgZUDFPMZKRpY+o34AaXyMXB75v/+cF3AAQGKQS\n",
       "YEey7pYfLQfIh18GArGh1+ZfwoKKThmYhAAEg5ZQSk+AAYoF0ThhPZoTm77gCbtRiLt87wS8Nfkw\n",
       "AQGLmFl4AE9SSAAMAIfMgMSjxx9g+HPXpE5BAAEwxZQBMB1AM+ohx4c/tYRhwBhFGpiM/wIAZgAA\n",
       "CSXAGwAQGLmFl0AZ1JIAA+ADvyABWhxUk9wS6FAF9IHvwEBBCRBK052XAX3CEgksIAAQTgABAyAA\n",
       "YB4IAAiFJJ4QZQRRRjXnAfoTLi4Y0b3za6Yqxzj/+FcABYMUq4PKBQX7yyNif+iayOMSqigAACSX\n",
       "9wMUq4PMAkEO8shKAV+ABgdaj2AG80tVgAA6SABf+8AAxyyQj1Dwxn8Uxg9IY2hAACCyAAIIwAB4\n",
       "BIIAAkClFgAU5tNCUhewvBD30KOtCATIbPvAxvTQFL5BC2Vd+dwwBG0AAAHaYeAKgBU+QHeAJQN/\n",
       "/iEO+ABYgOuhkVnrgRIR8sOv/MAQQpJBgSth3aw9OtJWQYUAfDCWsAB4asYRJbdUcQWTmwgMcRmx\n",
       "Fh1jvsAZtvUDwobJpgdDbgAIDEY1rWMYxrWsY3//gAWUKFFsCH03pavInwFbT+AA8ZkEynL2MQpf\n",
       "wE36fSb/xP2C3gDgAtA4sd0rhysYfZs7U01Nfn///ggAEdzgBeymQDDipkyBdr/a/KWRk554JjWn\n",
       "SHx0GsEAIQx0CnHcEaZcgCAEFMKppQslISisbwsxnQAHQJEScEf4NYFVTT/eABAdSz2oAM5tagrC\n",
       "StP+JvMwABAOAAEA790AGBwIAAiAAIIxIAAgFAYAArAXQYlutfCqOHWzwCL/aGjC4UoSimUJjA8f\n",
       "+/pjHbFnCPUX11RkMOP9/8HAawB8AGBy4hRdgGcSSAAPAA7+AwIJTIJ2lO64C24QkAmhAACASAQP\n",
       "IBEyMGBbqM2xwMiOdYCFCRJXmkNfD8NnQ0yiSf4EAMwAABJLgDsAGBy4hRugBPEkgADICHzABSBx\n",
       "cktxS4FAF9MHvmYHJT48R5Xlvb0jcggABA8AAECAAFA4EAAjtbwOcRhTixdiqxkJC4Y0br3t5EyD\n",
       "C37/gCN4AAABzmHgCsAVvkB3gCTzf/94LuAAjExxV8QRzT2kEN0QAXU4CVpRoAJAFqT/+ggAI73A\n",
       "I8AF8jAQcXIkQLt/7XAHaMyU8m/8/sFvBEMI4XrJRsg63feEtJwFzIwnUxcxyFIHtu7fT5v/88O+\n",
       "AAgMUgkwI9l3Sw+Wg+RDr+DAVjQ6/Mv4UFFJwzMQwkAeDCWsAGYICHE5sQYdZ74BcaOYVJTcUeQW\n",
       "RgCbZtIDhkbWsHp3gl4a+TABAYuYWXgAT1JIAAwAhAAAEkvzIDEo8cfYPhz16ROXkACtDipJ7gl0\n",
       "KAL6QPYQAAgegACBAADQcCAAjsbAUUwrC3FC7lVzISF8ZrCL9EiDCX79QIGGYA2ACAxcwsugDOpJ\n",
       "AAHwAdh+AgIISIJWnOy4C+4QkElhhAACAIAIGEghMz4ERWOkBShAkqzSGgIw0c12Ncosn/8KwAFg\n",
       "xSrg8oFBfvLI2JwAABJL/omsjjEqovAAwOtR7ADeaWqwAAdJAAv/e4GKVcHmASCHeWQlAK4fgAGO\n",
       "WSEeoeGM/imMHpDG0MIAAgAAIIxAAAgFAcAArQ4EkiiYWoQigVJiw7f+0EbD2rhNXDjZ4BB/g/GU\n",
       "bIhhi+nymaGFeo/5+AI3gAAAAZ9h4AsAFj5Ad4Ak83/xwwW8ACxAddDIrPXAiQj5Ydf+ACCFJIMC\n",
       "VsO7WHp1pKyCAAJhyigqbwACFQuCcsJ6NCc/ffgCbNZiLt/zf/8ILuAA5QoUWwIfTelq8ifOXmAC\n",
       "0Dix3SuHKxh9mxCAAJByygEeABxYMQ81kJGFj6rcANa5mLA9DbgAJJppNNppv/+EJzCq4kj2nNIJ\n",
       "D9cGX653H+/+CYzTpL/w1BACEMdApx3BGmXBnQBACCmFU0oWSkJRWN4WfgAQHUs9qADObWoKwkrQ\n",
       "AB0CREnBH+DWBVU0/wYcIAAQLgABAeAGAwEACOtoCmPXws7EJBMxs+95+TNsSGJ2ELaGGMA8QQ9O\n",
       "rs+n83tP49As+bADC3ulIJCG/DLTAavwMMWJWZS3pORaR04J+YAKQOLH9K4crGHWrEIAAQTwABAw\n",
       "AAaBwIAAgFIeCXDDICqLMY88D9iJcYy3+sC20+Qowqj/AgBn5sAGBy4hRugBPEkgADICEPmYHJT4\n",
       "8R5Xlvb0jcgwgACQYooB3rYCP6KccHPbWEAw4yCzcxmf8ARxAAABtGHgC0AWvkB3gCTjf/7nDvgA\n",
       "IxMcVfEEc09pBDfRABdTgJWlGgAkAWpP/6BEMI4XrJRsg63fBAAEA5JQHzwAZtvlef4DKgYp5jJS\n",
       "NLH1G4AaXyMXB6d83/z+C3gAIDFIJMCPZd0sPloPkQ6+DAVjQ6/Mv4UFFJwzMQgACYcooKm8AAxQ\n",
       "LonDCezQnN334Am7UYi7f8/BLLCv5MAEBi5hZeABPUkgADACHzIDEo8cfYPhz16ROQAAAwJJcAbA\n",
       "CBnzD3qAYiosAAZAB/5AArQ4qSe4JdCgC+kD34CAghIglac7LgM7hCQyWEAAIHYAAgjAAkAkEAEF\n",
       "YWA6gGfUQ48Of2sI8IMoIooxrzgP0JlxcGN6AMIo1MRmbXTFWOcf8Nv4BDuKe57iyiynllFhw8AC\n",
       "YMUq4PMBQX7y0NvLSNMjRiVU+HhCRkhgAU42TQlMXsLD8c0/AgBmAAAJJf3AxSrg8wCQQ7yyEoBX\n",
       "4AGB1qPYAbzS1WAADpIAF/7wADHLJCPUPDGfxTGD0hjaEAAILgAAghAACAEA4EAATDll8EPfQo60\n",
       "IBMhs+8LnxvcUvkELZV3/n4AjiAAAAHTYeALgBc+QHeAJNDeAAgADAQY6664444666447//wAPEB\n",
       "10Mis9cCJCPlj/gQXdgEeAA8NWMIktuqOILJ4AzbeoHpv/EPYLeAIIUkgwJWw7tYenWkrYMIATmM\n",
       "AL5sIDHEZsRYdY778UNk0wO+b//A4d8AByhQotgQ+m9LV5E+cvzABaBxY7pXDlYw+zY4po1Nfz//\n",
       "/wEAQ6ygPngAPGZBMpy9jEKWymQDDipkyBdr/awE36fQpZGTnk/BLw1gIgQhVQcUDgQ6yyEgBX+A\n",
       "AQ5RA79BFxl8URg9IQ2hAACAuAAwHiwQXZ+gzca18Io4dbPAIv9+MdskMI9R/g4DMAAASS4ADIEI\n",
       "VVHGAsL9ZaG5PwAIDqWe0Azm1qMAAHSUAL/3/FvM9j6rwgABAuAAEAoAYFggBOc+hoguFKEoolCY\n",
       "sOn/gYFuozbH/fXVGQw4/3/mtOkI8NBr82AGFvdKQSEN+GWmHwMMWJWZS3pORaR04JjV+NAGFPz9\n",
       "dgF9SHUPHmACkDix/SuHKxh1qx5mByU+PEfdC316Cg4AgABAXAAEEgDwCQQEF43gZEcXYOKEiivN\n",
       "Ea8DnEYUQWLsVWMhAXBl/4QraGkUT0vYuRMgYW/f8+GAI5gAAAHgYeALwBe+QHeAJNN/988O8ABG\n",
       "Jjir4gjmntIIbogAupwErSjQASALUn/9YIhhHC9ZKNkHW77wgBDqKA3eAC+RgIOLkSIF2/9oBcyM\n",
       "J1MXMchSYA7RmSnjbu30hvAAQAAQDQAQGHTp04cOHDp06cOHf/+AA4MUgkwI9l3Sw+Wg+RAgCc5g\n",
       "EcMAGYICHE5sQYdZ778ATbNpAdN/5/YLf4MBWNDL8y/hQUUmzExDCBdmAFwFxo5hUlNxR5BZAeMj\n",
       "a1g94JjMBqk/+g18SAIIfv4zwL4kOotgHZAE5gO4WUy2QbcAGABdOEIQXrhBAVc4ADMAEEvtLQQE\n",
       "NeF2eAfgQYoQowljCUi8jZsRDCAAEBYAAQRgOAJBAIL5oCimFYW4oXcquZCQv4ERWFyDyhAoqzSG\n",
       "hb+GEU+iRBhL9f6bGuUX0/5vsJ/6BZAAWDFKuDzAUF+8tDYn2gM6wqg4TvO2971pGmRoxKqL4AGD\n",
       "tUawgavNSCwMls4QAAgVgACAYAJDAQBOY41uhI4mFqEIpFSo0PX/vD4wx3ZEYAj3f4EAM/cDFKuD\n",
       "zAJBDvLISgFcPwADHLJCPUPDGfxTGD0hjaGEAAICwABAOFggXd9BGw9q4TVw42eAQf7B8PnymaGF\n",
       "eo/4AjqAAAABy2HgDAAYPkB3gCTDf/8YLuAA5QoUWwIfTelq8ifOXmAC0Dix3SuHKxh9mxCAAJBy\n",
       "ygEeABxYMQ81kJGFj6rcANa5mLA9DbgAJJppNNppv/+EJzCq4kj2nNIJD9cGX653H+//N/8c8O8A\n",
       "ByhQotgQ+m9LV5E+cvMAFoHFjulcOVjD7Nj4po1Nfz///x4QABEOQUBu8ADiwYh5rISMLH1WBl+u\n",
       "dx/sANa5mLA987wS8NfPABgcuIUXYBnEkgADwAOwAABJL+AwIJTIJ2lO64C24QkAm+YAKQOLkluK\n",
       "XAoAvpg9hAACCeAAIGQADQOBAAEApBMBWGQFUWYx54H7Ey4vjewZb5CjHMP8CAGfmwAYHLiFG6AE\n",
       "8SSAAMgIQ+ZgclPjxHleW9vSNyDCAAJBiigHdbAR/RTjg5zLAgeHGQWbmMz/+FfngAwOXEKLsAzi\n",
       "SQAB4AHYAAAkl/AYEEpkE7SndcBbcISATfMAFIHFyS3FLgUAX0wewB2ADA5cQo3QAniSQABkBCHz\n",
       "MDkp8eI8ry3t6RuQYQAAgcAACCQACACQQAIK0sBWGQFUWYx54H7Ey4v62Aj2inHBzm1hAb0MGW+Q\n",
       "oxzAZBZuYzP+fgCOoAAAAZdh4AxAGL5Ad4Akw3/z+C3gAIDFIJMCPZd0sPloPkQ6+DAVjQ6/Mv4U\n",
       "FFJwzMQgACYcooKm8AAxQLonDCezQnN334Am7UYi7f83//OC7gAIDFIJMCPZd0sPloPkQ6+DAVjQ\n",
       "6/Mv4UFFJwzMQgACQcsoJSfAAMUC6Jwwns0Jzd9wBN2oxF2+d4JQ3gAIBDuKe57iyiynllF/AAmD\n",
       "FKuDzAUF+8tDby0jTI0YlVPh4QkZMACnGyaEpi9hYcc0/AgBmAAAJJf3AxSrg8wCQQ7yyEoBX4AG\n",
       "B1qPYAbzS1WAADpIAF/7wADHLJCPUPDGfxTGD0hjaEAAILgAAghAACAEA4EAATDll8EPfQo60IBM\n",
       "hs+8GNG9xS+QQtlXf/wrgALBilXB5QKC/eWRsT/0TWRxiVUUAAASS/uBilXB5gEgh3lkJQCvwAMD\n",
       "rUewA3mlqsAAHSQAL/3gAGOWSEeoeGM/imMHpDG0IAAQWQABBGAAPAJBAAEgUosACnNpoSkL2F4I\n",
       "e+hR1oQCZDZ94GN6aApfIIWyrvzuGAI7gAAAA9ptb292AAAAbG12aGQAAAAAAAAAAAAAAAAAAAPo\n",
       "AAALuAABAAABAAAAAAAAAAAAAAAAAQAAAAAAAAAAAAAAAAAAAAEAAAAAAAAAAAAAAAAAAEAAAAAA\n",
       "AAAAAAAAAAAAAAAAAAAAAAAAAAAAAAAAAAACAAADBXRyYWsAAABcdGtoZAAAAAMAAAAAAAAAAAAA\n",
       "AAEAAAAAAAALuAAAAAAAAAAAAAAAAAAAAAAAAQAAAAAAAAAAAAAAAAAAAAEAAAAAAAAAAAAAAAAA\n",
       "AEAAAAACgAAAAeAAAAAAACRlZHRzAAAAHGVsc3QAAAAAAAAAAQAAC7gAAAAAAAEAAAAAAn1tZGlh\n",
       "AAAAIG1kaGQAAAAAAAAAAAAAAAAAADIAAACWAFXEAAAAAAAtaGRscgAAAAAAAAAAdmlkZQAAAAAA\n",
       "AAAAAAAAAFZpZGVvSGFuZGxlcgAAAAIobWluZgAAABR2bWhkAAAAAQAAAAAAAAAAAAAAJGRpbmYA\n",
       "AAAcZHJlZgAAAAAAAAABAAAADHVybCAAAAABAAAB6HN0YmwAAACoc3RzZAAAAAAAAAABAAAAmGF2\n",
       "YzEAAAAAAAAAAQAAAAAAAAAAAAAAAAAAAAACgAHgAEgAAABIAAAAAAAAAAEAAAAAAAAAAAAAAAAA\n",
       "AAAAAAAAAAAAAAAAAAAAAAAAAAAY//8AAAAmYXZjQwFCwBb/4QAPZ0LAFoyNQFAek0B4RCNQAQAE\n",
       "aM48gAAAABx1dWlka2hA8l8kT8W6OaUbzwMj8wAAAAAAAAAYc3R0cwAAAAAAAAABAAAAMgAAAwAA\n",
       "AAAUc3RzcwAAAAAAAAABAAAAAQAAABxzdHNjAAAAAAAAAAEAAAABAAAAMgAAAAEAAADcc3RzegAA\n",
       "AAAAAAAAAAAAMgAAGTgAAAG/AAABNwAAAUcAAAG+AAABOQAAAT8AAADgAAAA0gAAAQ4AAADsAAAA\n",
       "nwAAAcYAAAHfAAAB0gAAAaMAAAG4AAAB1wAAAeQAAAGUAAABtQAAAd4AAAHSAAABvwAAAZIAAAHc\n",
       "AAAB3AAAAdYAAAGeAAABzQAAAdUAAAHEAAABdwAAAd0AAAHVAAABggAAAXkAAAGTAAAB3wAAAeQA\n",
       "AAGYAAABtQAAAd4AAAHSAAABowAAAbgAAAHXAAAB5AAAAc8AAAGbAAAAFHN0Y28AAAAAAAAAAQAA\n",
       "ADAAAABhdWR0YQAAAFltZXRhAAAAAAAAACFoZGxyAAAAAAAAAABtZGlyYXBwbAAAAAAAAAAAAAAA\n",
       "ACxpbHN0AAAAJKl0b28AAAAcZGF0YQAAAAEAAAAATGF2ZjYwLjMuMTAw\n",
       "\">\n",
       "  Your browser does not support the video tag.\n",
       "</video>"
      ],
      "text/plain": [
       "<IPython.core.display.HTML object>"
      ]
     },
     "execution_count": 117,
     "metadata": {},
     "output_type": "execute_result"
    }
   ],
   "source": [
    "HTML(anim.to_html5_video())"
   ]
  },
  {
   "cell_type": "markdown",
   "metadata": {
    "collapsed": true
   },
   "source": [
    "**Histogramming:**"
   ]
  },
  {
   "cell_type": "code",
   "execution_count": 173,
   "metadata": {
    "collapsed": false
   },
   "outputs": [
    {
     "ename": "KeyboardInterrupt",
     "evalue": "",
     "output_type": "error",
     "traceback": [
      "\u001b[0;31m---------------------------------------------------------------------------\u001b[0m",
      "\u001b[0;31mKeyboardInterrupt\u001b[0m                         Traceback (most recent call last)",
      "Cell \u001b[0;32mIn[173], line 1\u001b[0m\n\u001b[0;32m----> 1\u001b[0m \u001b[43mplt\u001b[49m\u001b[38;5;241;43m.\u001b[39;49m\u001b[43mhist\u001b[49m\u001b[43m(\u001b[49m\u001b[43mdata_traj\u001b[49m\u001b[43m[\u001b[49m\u001b[38;5;241;43m0\u001b[39;49m\u001b[43m]\u001b[49m\u001b[43m,\u001b[49m\u001b[38;5;28;43mrange\u001b[39;49m\u001b[38;5;241;43m=\u001b[39;49m\u001b[43m(\u001b[49m\u001b[38;5;241;43m0\u001b[39;49m\u001b[43m,\u001b[49m\u001b[43mbox\u001b[49m\u001b[43m[\u001b[49m\u001b[38;5;241;43m0\u001b[39;49m\u001b[43m]\u001b[49m\u001b[43m)\u001b[49m\u001b[43m,\u001b[49m\u001b[43mbins\u001b[49m\u001b[38;5;241;43m=\u001b[39;49m\u001b[38;5;241;43m10\u001b[39;49m\u001b[43m)\u001b[49m\n\u001b[1;32m      2\u001b[0m plt\u001b[38;5;241m.\u001b[39mxlabel(\u001b[38;5;124m'\u001b[39m\u001b[38;5;124mposition x\u001b[39m\u001b[38;5;124m'\u001b[39m)\n\u001b[1;32m      3\u001b[0m plt\u001b[38;5;241m.\u001b[39mylabel(\u001b[38;5;124m'\u001b[39m\u001b[38;5;124moccupancy\u001b[39m\u001b[38;5;124m'\u001b[39m)\n",
      "File \u001b[0;32m/var/data/python/lib/python3.11/site-packages/matplotlib/pyplot.py:3236\u001b[0m, in \u001b[0;36mhist\u001b[0;34m(x, bins, range, density, weights, cumulative, bottom, histtype, align, orientation, rwidth, log, color, label, stacked, data, **kwargs)\u001b[0m\n\u001b[1;32m   3211\u001b[0m \u001b[38;5;129m@_copy_docstring_and_deprecators\u001b[39m(Axes\u001b[38;5;241m.\u001b[39mhist)\n\u001b[1;32m   3212\u001b[0m \u001b[38;5;28;01mdef\u001b[39;00m \u001b[38;5;21mhist\u001b[39m(\n\u001b[1;32m   3213\u001b[0m     x: ArrayLike \u001b[38;5;241m|\u001b[39m Sequence[ArrayLike],\n\u001b[0;32m   (...)\u001b[0m\n\u001b[1;32m   3234\u001b[0m     BarContainer \u001b[38;5;241m|\u001b[39m Polygon \u001b[38;5;241m|\u001b[39m \u001b[38;5;28mlist\u001b[39m[BarContainer \u001b[38;5;241m|\u001b[39m Polygon],\n\u001b[1;32m   3235\u001b[0m ]:\n\u001b[0;32m-> 3236\u001b[0m     \u001b[38;5;28;01mreturn\u001b[39;00m \u001b[43mgca\u001b[49m\u001b[43m(\u001b[49m\u001b[43m)\u001b[49m\u001b[38;5;241;43m.\u001b[39;49m\u001b[43mhist\u001b[49m\u001b[43m(\u001b[49m\n\u001b[1;32m   3237\u001b[0m \u001b[43m        \u001b[49m\u001b[43mx\u001b[49m\u001b[43m,\u001b[49m\n\u001b[1;32m   3238\u001b[0m \u001b[43m        \u001b[49m\u001b[43mbins\u001b[49m\u001b[38;5;241;43m=\u001b[39;49m\u001b[43mbins\u001b[49m\u001b[43m,\u001b[49m\n\u001b[1;32m   3239\u001b[0m \u001b[43m        \u001b[49m\u001b[38;5;28;43mrange\u001b[39;49m\u001b[38;5;241;43m=\u001b[39;49m\u001b[38;5;28;43mrange\u001b[39;49m\u001b[43m,\u001b[49m\n\u001b[1;32m   3240\u001b[0m \u001b[43m        \u001b[49m\u001b[43mdensity\u001b[49m\u001b[38;5;241;43m=\u001b[39;49m\u001b[43mdensity\u001b[49m\u001b[43m,\u001b[49m\n\u001b[1;32m   3241\u001b[0m \u001b[43m        \u001b[49m\u001b[43mweights\u001b[49m\u001b[38;5;241;43m=\u001b[39;49m\u001b[43mweights\u001b[49m\u001b[43m,\u001b[49m\n\u001b[1;32m   3242\u001b[0m \u001b[43m        \u001b[49m\u001b[43mcumulative\u001b[49m\u001b[38;5;241;43m=\u001b[39;49m\u001b[43mcumulative\u001b[49m\u001b[43m,\u001b[49m\n\u001b[1;32m   3243\u001b[0m \u001b[43m        \u001b[49m\u001b[43mbottom\u001b[49m\u001b[38;5;241;43m=\u001b[39;49m\u001b[43mbottom\u001b[49m\u001b[43m,\u001b[49m\n\u001b[1;32m   3244\u001b[0m \u001b[43m        \u001b[49m\u001b[43mhisttype\u001b[49m\u001b[38;5;241;43m=\u001b[39;49m\u001b[43mhisttype\u001b[49m\u001b[43m,\u001b[49m\n\u001b[1;32m   3245\u001b[0m \u001b[43m        \u001b[49m\u001b[43malign\u001b[49m\u001b[38;5;241;43m=\u001b[39;49m\u001b[43malign\u001b[49m\u001b[43m,\u001b[49m\n\u001b[1;32m   3246\u001b[0m \u001b[43m        \u001b[49m\u001b[43morientation\u001b[49m\u001b[38;5;241;43m=\u001b[39;49m\u001b[43morientation\u001b[49m\u001b[43m,\u001b[49m\n\u001b[1;32m   3247\u001b[0m \u001b[43m        \u001b[49m\u001b[43mrwidth\u001b[49m\u001b[38;5;241;43m=\u001b[39;49m\u001b[43mrwidth\u001b[49m\u001b[43m,\u001b[49m\n\u001b[1;32m   3248\u001b[0m \u001b[43m        \u001b[49m\u001b[43mlog\u001b[49m\u001b[38;5;241;43m=\u001b[39;49m\u001b[43mlog\u001b[49m\u001b[43m,\u001b[49m\n\u001b[1;32m   3249\u001b[0m \u001b[43m        \u001b[49m\u001b[43mcolor\u001b[49m\u001b[38;5;241;43m=\u001b[39;49m\u001b[43mcolor\u001b[49m\u001b[43m,\u001b[49m\n\u001b[1;32m   3250\u001b[0m \u001b[43m        \u001b[49m\u001b[43mlabel\u001b[49m\u001b[38;5;241;43m=\u001b[39;49m\u001b[43mlabel\u001b[49m\u001b[43m,\u001b[49m\n\u001b[1;32m   3251\u001b[0m \u001b[43m        \u001b[49m\u001b[43mstacked\u001b[49m\u001b[38;5;241;43m=\u001b[39;49m\u001b[43mstacked\u001b[49m\u001b[43m,\u001b[49m\n\u001b[1;32m   3252\u001b[0m \u001b[43m        \u001b[49m\u001b[38;5;241;43m*\u001b[39;49m\u001b[38;5;241;43m*\u001b[39;49m\u001b[43m(\u001b[49m\u001b[43m{\u001b[49m\u001b[38;5;124;43m\"\u001b[39;49m\u001b[38;5;124;43mdata\u001b[39;49m\u001b[38;5;124;43m\"\u001b[39;49m\u001b[43m:\u001b[49m\u001b[43m \u001b[49m\u001b[43mdata\u001b[49m\u001b[43m}\u001b[49m\u001b[43m \u001b[49m\u001b[38;5;28;43;01mif\u001b[39;49;00m\u001b[43m \u001b[49m\u001b[43mdata\u001b[49m\u001b[43m \u001b[49m\u001b[38;5;129;43;01mis\u001b[39;49;00m\u001b[43m \u001b[49m\u001b[38;5;129;43;01mnot\u001b[39;49;00m\u001b[43m \u001b[49m\u001b[38;5;28;43;01mNone\u001b[39;49;00m\u001b[43m \u001b[49m\u001b[38;5;28;43;01melse\u001b[39;49;00m\u001b[43m \u001b[49m\u001b[43m{\u001b[49m\u001b[43m}\u001b[49m\u001b[43m)\u001b[49m\u001b[43m,\u001b[49m\n\u001b[1;32m   3253\u001b[0m \u001b[43m        \u001b[49m\u001b[38;5;241;43m*\u001b[39;49m\u001b[38;5;241;43m*\u001b[39;49m\u001b[43mkwargs\u001b[49m\u001b[43m,\u001b[49m\n\u001b[1;32m   3254\u001b[0m \u001b[43m    \u001b[49m\u001b[43m)\u001b[49m\n",
      "File \u001b[0;32m/var/data/python/lib/python3.11/site-packages/matplotlib/__init__.py:1465\u001b[0m, in \u001b[0;36m_preprocess_data.<locals>.inner\u001b[0;34m(ax, data, *args, **kwargs)\u001b[0m\n\u001b[1;32m   1462\u001b[0m \u001b[38;5;129m@functools\u001b[39m\u001b[38;5;241m.\u001b[39mwraps(func)\n\u001b[1;32m   1463\u001b[0m \u001b[38;5;28;01mdef\u001b[39;00m \u001b[38;5;21minner\u001b[39m(ax, \u001b[38;5;241m*\u001b[39margs, data\u001b[38;5;241m=\u001b[39m\u001b[38;5;28;01mNone\u001b[39;00m, \u001b[38;5;241m*\u001b[39m\u001b[38;5;241m*\u001b[39mkwargs):\n\u001b[1;32m   1464\u001b[0m     \u001b[38;5;28;01mif\u001b[39;00m data \u001b[38;5;129;01mis\u001b[39;00m \u001b[38;5;28;01mNone\u001b[39;00m:\n\u001b[0;32m-> 1465\u001b[0m         \u001b[38;5;28;01mreturn\u001b[39;00m \u001b[43mfunc\u001b[49m\u001b[43m(\u001b[49m\u001b[43max\u001b[49m\u001b[43m,\u001b[49m\u001b[43m \u001b[49m\u001b[38;5;241;43m*\u001b[39;49m\u001b[38;5;28;43mmap\u001b[39;49m\u001b[43m(\u001b[49m\u001b[43msanitize_sequence\u001b[49m\u001b[43m,\u001b[49m\u001b[43m \u001b[49m\u001b[43margs\u001b[49m\u001b[43m)\u001b[49m\u001b[43m,\u001b[49m\u001b[43m \u001b[49m\u001b[38;5;241;43m*\u001b[39;49m\u001b[38;5;241;43m*\u001b[39;49m\u001b[43mkwargs\u001b[49m\u001b[43m)\u001b[49m\n\u001b[1;32m   1467\u001b[0m     bound \u001b[38;5;241m=\u001b[39m new_sig\u001b[38;5;241m.\u001b[39mbind(ax, \u001b[38;5;241m*\u001b[39margs, \u001b[38;5;241m*\u001b[39m\u001b[38;5;241m*\u001b[39mkwargs)\n\u001b[1;32m   1468\u001b[0m     auto_label \u001b[38;5;241m=\u001b[39m (bound\u001b[38;5;241m.\u001b[39marguments\u001b[38;5;241m.\u001b[39mget(label_namer)\n\u001b[1;32m   1469\u001b[0m                   \u001b[38;5;129;01mor\u001b[39;00m bound\u001b[38;5;241m.\u001b[39mkwargs\u001b[38;5;241m.\u001b[39mget(label_namer))\n",
      "File \u001b[0;32m/var/data/python/lib/python3.11/site-packages/matplotlib/axes/_axes.py:6922\u001b[0m, in \u001b[0;36mAxes.hist\u001b[0;34m(self, x, bins, range, density, weights, cumulative, bottom, histtype, align, orientation, rwidth, log, color, label, stacked, **kwargs)\u001b[0m\n\u001b[1;32m   6920\u001b[0m \u001b[38;5;28;01melse\u001b[39;00m:\n\u001b[1;32m   6921\u001b[0m     height \u001b[38;5;241m=\u001b[39m top\n\u001b[0;32m-> 6922\u001b[0m bars \u001b[38;5;241m=\u001b[39m \u001b[43m_barfunc\u001b[49m\u001b[43m(\u001b[49m\u001b[43mbins\u001b[49m\u001b[43m[\u001b[49m\u001b[43m:\u001b[49m\u001b[38;5;241;43m-\u001b[39;49m\u001b[38;5;241;43m1\u001b[39;49m\u001b[43m]\u001b[49m\u001b[38;5;241;43m+\u001b[39;49m\u001b[43mboffset\u001b[49m\u001b[43m,\u001b[49m\u001b[43m \u001b[49m\u001b[43mheight\u001b[49m\u001b[43m,\u001b[49m\u001b[43m \u001b[49m\u001b[43mwidth\u001b[49m\u001b[43m,\u001b[49m\n\u001b[1;32m   6923\u001b[0m \u001b[43m                \u001b[49m\u001b[43malign\u001b[49m\u001b[38;5;241;43m=\u001b[39;49m\u001b[38;5;124;43m'\u001b[39;49m\u001b[38;5;124;43mcenter\u001b[39;49m\u001b[38;5;124;43m'\u001b[39;49m\u001b[43m,\u001b[49m\u001b[43m \u001b[49m\u001b[43mlog\u001b[49m\u001b[38;5;241;43m=\u001b[39;49m\u001b[43mlog\u001b[49m\u001b[43m,\u001b[49m\n\u001b[1;32m   6924\u001b[0m \u001b[43m                \u001b[49m\u001b[43mcolor\u001b[49m\u001b[38;5;241;43m=\u001b[39;49m\u001b[43mcolor\u001b[49m\u001b[43m,\u001b[49m\u001b[43m \u001b[49m\u001b[38;5;241;43m*\u001b[39;49m\u001b[38;5;241;43m*\u001b[39;49m\u001b[43m{\u001b[49m\u001b[43mbottom_kwarg\u001b[49m\u001b[43m:\u001b[49m\u001b[43m \u001b[49m\u001b[43mbottom\u001b[49m\u001b[43m}\u001b[49m\u001b[43m)\u001b[49m\n\u001b[1;32m   6925\u001b[0m patches\u001b[38;5;241m.\u001b[39mappend(bars)\n\u001b[1;32m   6926\u001b[0m \u001b[38;5;28;01mif\u001b[39;00m stacked:\n",
      "File \u001b[0;32m/var/data/python/lib/python3.11/site-packages/matplotlib/__init__.py:1465\u001b[0m, in \u001b[0;36m_preprocess_data.<locals>.inner\u001b[0;34m(ax, data, *args, **kwargs)\u001b[0m\n\u001b[1;32m   1462\u001b[0m \u001b[38;5;129m@functools\u001b[39m\u001b[38;5;241m.\u001b[39mwraps(func)\n\u001b[1;32m   1463\u001b[0m \u001b[38;5;28;01mdef\u001b[39;00m \u001b[38;5;21minner\u001b[39m(ax, \u001b[38;5;241m*\u001b[39margs, data\u001b[38;5;241m=\u001b[39m\u001b[38;5;28;01mNone\u001b[39;00m, \u001b[38;5;241m*\u001b[39m\u001b[38;5;241m*\u001b[39mkwargs):\n\u001b[1;32m   1464\u001b[0m     \u001b[38;5;28;01mif\u001b[39;00m data \u001b[38;5;129;01mis\u001b[39;00m \u001b[38;5;28;01mNone\u001b[39;00m:\n\u001b[0;32m-> 1465\u001b[0m         \u001b[38;5;28;01mreturn\u001b[39;00m \u001b[43mfunc\u001b[49m\u001b[43m(\u001b[49m\u001b[43max\u001b[49m\u001b[43m,\u001b[49m\u001b[43m \u001b[49m\u001b[38;5;241;43m*\u001b[39;49m\u001b[38;5;28;43mmap\u001b[39;49m\u001b[43m(\u001b[49m\u001b[43msanitize_sequence\u001b[49m\u001b[43m,\u001b[49m\u001b[43m \u001b[49m\u001b[43margs\u001b[49m\u001b[43m)\u001b[49m\u001b[43m,\u001b[49m\u001b[43m \u001b[49m\u001b[38;5;241;43m*\u001b[39;49m\u001b[38;5;241;43m*\u001b[39;49m\u001b[43mkwargs\u001b[49m\u001b[43m)\u001b[49m\n\u001b[1;32m   1467\u001b[0m     bound \u001b[38;5;241m=\u001b[39m new_sig\u001b[38;5;241m.\u001b[39mbind(ax, \u001b[38;5;241m*\u001b[39margs, \u001b[38;5;241m*\u001b[39m\u001b[38;5;241m*\u001b[39mkwargs)\n\u001b[1;32m   1468\u001b[0m     auto_label \u001b[38;5;241m=\u001b[39m (bound\u001b[38;5;241m.\u001b[39marguments\u001b[38;5;241m.\u001b[39mget(label_namer)\n\u001b[1;32m   1469\u001b[0m                   \u001b[38;5;129;01mor\u001b[39;00m bound\u001b[38;5;241m.\u001b[39mkwargs\u001b[38;5;241m.\u001b[39mget(label_namer))\n",
      "File \u001b[0;32m/var/data/python/lib/python3.11/site-packages/matplotlib/axes/_axes.py:2538\u001b[0m, in \u001b[0;36mAxes.bar\u001b[0;34m(self, x, height, width, bottom, align, **kwargs)\u001b[0m\n\u001b[1;32m   2536\u001b[0m     \u001b[38;5;28;01melse\u001b[39;00m:  \u001b[38;5;66;03m# horizontal\u001b[39;00m\n\u001b[1;32m   2537\u001b[0m         r\u001b[38;5;241m.\u001b[39msticky_edges\u001b[38;5;241m.\u001b[39mx\u001b[38;5;241m.\u001b[39mappend(l)\n\u001b[0;32m-> 2538\u001b[0m     \u001b[38;5;28;43mself\u001b[39;49m\u001b[38;5;241;43m.\u001b[39;49m\u001b[43madd_patch\u001b[49m\u001b[43m(\u001b[49m\u001b[43mr\u001b[49m\u001b[43m)\u001b[49m\n\u001b[1;32m   2539\u001b[0m     patches\u001b[38;5;241m.\u001b[39mappend(r)\n\u001b[1;32m   2541\u001b[0m \u001b[38;5;28;01mif\u001b[39;00m xerr \u001b[38;5;129;01mis\u001b[39;00m \u001b[38;5;129;01mnot\u001b[39;00m \u001b[38;5;28;01mNone\u001b[39;00m \u001b[38;5;129;01mor\u001b[39;00m yerr \u001b[38;5;129;01mis\u001b[39;00m \u001b[38;5;129;01mnot\u001b[39;00m \u001b[38;5;28;01mNone\u001b[39;00m:\n",
      "File \u001b[0;32m/var/data/python/lib/python3.11/site-packages/matplotlib/axes/_base.py:2384\u001b[0m, in \u001b[0;36m_AxesBase.add_patch\u001b[0;34m(self, p)\u001b[0m\n\u001b[1;32m   2382\u001b[0m \u001b[38;5;28;01mif\u001b[39;00m p\u001b[38;5;241m.\u001b[39mget_clip_path() \u001b[38;5;129;01mis\u001b[39;00m \u001b[38;5;28;01mNone\u001b[39;00m:\n\u001b[1;32m   2383\u001b[0m     p\u001b[38;5;241m.\u001b[39mset_clip_path(\u001b[38;5;28mself\u001b[39m\u001b[38;5;241m.\u001b[39mpatch)\n\u001b[0;32m-> 2384\u001b[0m \u001b[38;5;28;43mself\u001b[39;49m\u001b[38;5;241;43m.\u001b[39;49m\u001b[43m_update_patch_limits\u001b[49m\u001b[43m(\u001b[49m\u001b[43mp\u001b[49m\u001b[43m)\u001b[49m\n\u001b[1;32m   2385\u001b[0m \u001b[38;5;28mself\u001b[39m\u001b[38;5;241m.\u001b[39m_children\u001b[38;5;241m.\u001b[39mappend(p)\n\u001b[1;32m   2386\u001b[0m p\u001b[38;5;241m.\u001b[39m_remove_method \u001b[38;5;241m=\u001b[39m \u001b[38;5;28mself\u001b[39m\u001b[38;5;241m.\u001b[39m_children\u001b[38;5;241m.\u001b[39mremove\n",
      "File \u001b[0;32m/var/data/python/lib/python3.11/site-packages/matplotlib/axes/_base.py:2415\u001b[0m, in \u001b[0;36m_AxesBase._update_patch_limits\u001b[0;34m(self, patch)\u001b[0m\n\u001b[1;32m   2412\u001b[0m \u001b[38;5;28;01mif\u001b[39;00m \u001b[38;5;28mlen\u001b[39m(vertices):\n\u001b[1;32m   2413\u001b[0m     vertices \u001b[38;5;241m=\u001b[39m np\u001b[38;5;241m.\u001b[39mvstack(vertices)\n\u001b[0;32m-> 2415\u001b[0m patch_trf \u001b[38;5;241m=\u001b[39m \u001b[43mpatch\u001b[49m\u001b[38;5;241;43m.\u001b[39;49m\u001b[43mget_transform\u001b[49m\u001b[43m(\u001b[49m\u001b[43m)\u001b[49m\n\u001b[1;32m   2416\u001b[0m updatex, updatey \u001b[38;5;241m=\u001b[39m patch_trf\u001b[38;5;241m.\u001b[39mcontains_branch_seperately(\u001b[38;5;28mself\u001b[39m\u001b[38;5;241m.\u001b[39mtransData)\n\u001b[1;32m   2417\u001b[0m \u001b[38;5;28;01mif\u001b[39;00m \u001b[38;5;129;01mnot\u001b[39;00m (updatex \u001b[38;5;129;01mor\u001b[39;00m updatey):\n",
      "File \u001b[0;32m/var/data/python/lib/python3.11/site-packages/matplotlib/patches.py:261\u001b[0m, in \u001b[0;36mPatch.get_transform\u001b[0;34m(self)\u001b[0m\n\u001b[1;32m    259\u001b[0m \u001b[38;5;28;01mdef\u001b[39;00m \u001b[38;5;21mget_transform\u001b[39m(\u001b[38;5;28mself\u001b[39m):\n\u001b[1;32m    260\u001b[0m \u001b[38;5;250m    \u001b[39m\u001b[38;5;124;03m\"\"\"Return the `~.transforms.Transform` applied to the `Patch`.\"\"\"\u001b[39;00m\n\u001b[0;32m--> 261\u001b[0m     \u001b[38;5;28;01mreturn\u001b[39;00m \u001b[38;5;28;43mself\u001b[39;49m\u001b[38;5;241;43m.\u001b[39;49m\u001b[43mget_patch_transform\u001b[49m\u001b[43m(\u001b[49m\u001b[43m)\u001b[49m\u001b[43m \u001b[49m\u001b[38;5;241;43m+\u001b[39;49m\u001b[43m \u001b[49m\u001b[43martist\u001b[49m\u001b[38;5;241;43m.\u001b[39;49m\u001b[43mArtist\u001b[49m\u001b[38;5;241;43m.\u001b[39;49m\u001b[43mget_transform\u001b[49m\u001b[43m(\u001b[49m\u001b[38;5;28;43mself\u001b[39;49m\u001b[43m)\u001b[49m\n",
      "File \u001b[0;32m/var/data/python/lib/python3.11/site-packages/matplotlib/transforms.py:1347\u001b[0m, in \u001b[0;36mTransform.__add__\u001b[0;34m(self, other)\u001b[0m\n\u001b[1;32m   1340\u001b[0m \u001b[38;5;28;01mdef\u001b[39;00m \u001b[38;5;21m__add__\u001b[39m(\u001b[38;5;28mself\u001b[39m, other):\n\u001b[1;32m   1341\u001b[0m \u001b[38;5;250m    \u001b[39m\u001b[38;5;124;03m\"\"\"\u001b[39;00m\n\u001b[1;32m   1342\u001b[0m \u001b[38;5;124;03m    Compose two transforms together so that *self* is followed by *other*.\u001b[39;00m\n\u001b[1;32m   1343\u001b[0m \n\u001b[1;32m   1344\u001b[0m \u001b[38;5;124;03m    ``A + B`` returns a transform ``C`` so that\u001b[39;00m\n\u001b[1;32m   1345\u001b[0m \u001b[38;5;124;03m    ``C.transform(x) == B.transform(A.transform(x))``.\u001b[39;00m\n\u001b[1;32m   1346\u001b[0m \u001b[38;5;124;03m    \"\"\"\u001b[39;00m\n\u001b[0;32m-> 1347\u001b[0m     \u001b[38;5;28;01mreturn\u001b[39;00m (\u001b[43mcomposite_transform_factory\u001b[49m\u001b[43m(\u001b[49m\u001b[38;5;28;43mself\u001b[39;49m\u001b[43m,\u001b[49m\u001b[43m \u001b[49m\u001b[43mother\u001b[49m\u001b[43m)\u001b[49m\n\u001b[1;32m   1348\u001b[0m             \u001b[38;5;28;01mif\u001b[39;00m \u001b[38;5;28misinstance\u001b[39m(other, Transform) \u001b[38;5;28;01melse\u001b[39;00m\n\u001b[1;32m   1349\u001b[0m             \u001b[38;5;28mNotImplemented\u001b[39m)\n",
      "File \u001b[0;32m/var/data/python/lib/python3.11/site-packages/matplotlib/transforms.py:2522\u001b[0m, in \u001b[0;36mcomposite_transform_factory\u001b[0;34m(a, b)\u001b[0m\n\u001b[1;32m   2520\u001b[0m \u001b[38;5;28;01melif\u001b[39;00m \u001b[38;5;28misinstance\u001b[39m(a, Affine2D) \u001b[38;5;129;01mand\u001b[39;00m \u001b[38;5;28misinstance\u001b[39m(b, Affine2D):\n\u001b[1;32m   2521\u001b[0m     \u001b[38;5;28;01mreturn\u001b[39;00m CompositeAffine2D(a, b)\n\u001b[0;32m-> 2522\u001b[0m \u001b[38;5;28;01mreturn\u001b[39;00m \u001b[43mCompositeGenericTransform\u001b[49m\u001b[43m(\u001b[49m\u001b[43ma\u001b[49m\u001b[43m,\u001b[49m\u001b[43m \u001b[49m\u001b[43mb\u001b[49m\u001b[43m)\u001b[49m\n",
      "File \u001b[0;32m/var/data/python/lib/python3.11/site-packages/matplotlib/transforms.py:2348\u001b[0m, in \u001b[0;36mCompositeGenericTransform.__init__\u001b[0;34m(self, a, b, **kwargs)\u001b[0m\n\u001b[1;32m   2339\u001b[0m \u001b[38;5;250m\u001b[39m\u001b[38;5;124;03m\"\"\"\u001b[39;00m\n\u001b[1;32m   2340\u001b[0m \u001b[38;5;124;03mA composite transform formed by applying transform *a* then\u001b[39;00m\n\u001b[1;32m   2341\u001b[0m \u001b[38;5;124;03mtransform *b*.\u001b[39;00m\n\u001b[0;32m   (...)\u001b[0m\n\u001b[1;32m   2344\u001b[0m \u001b[38;5;124;03mtransformations.\u001b[39;00m\n\u001b[1;32m   2345\u001b[0m \u001b[38;5;124;03m\"\"\"\u001b[39;00m\n\u001b[1;32m   2346\u001b[0m pass_through \u001b[38;5;241m=\u001b[39m \u001b[38;5;28;01mTrue\u001b[39;00m\n\u001b[0;32m-> 2348\u001b[0m \u001b[38;5;28;01mdef\u001b[39;00m \u001b[38;5;21m__init__\u001b[39m(\u001b[38;5;28mself\u001b[39m, a, b, \u001b[38;5;241m*\u001b[39m\u001b[38;5;241m*\u001b[39mkwargs):\n\u001b[1;32m   2349\u001b[0m \u001b[38;5;250m    \u001b[39m\u001b[38;5;124;03m\"\"\"\u001b[39;00m\n\u001b[1;32m   2350\u001b[0m \u001b[38;5;124;03m    Create a new composite transform that is the result of\u001b[39;00m\n\u001b[1;32m   2351\u001b[0m \u001b[38;5;124;03m    applying transform *a* then transform *b*.\u001b[39;00m\n\u001b[0;32m   (...)\u001b[0m\n\u001b[1;32m   2355\u001b[0m \u001b[38;5;124;03m    transform instance to create.\u001b[39;00m\n\u001b[1;32m   2356\u001b[0m \u001b[38;5;124;03m    \"\"\"\u001b[39;00m\n\u001b[1;32m   2357\u001b[0m     \u001b[38;5;28;01mif\u001b[39;00m a\u001b[38;5;241m.\u001b[39moutput_dims \u001b[38;5;241m!=\u001b[39m b\u001b[38;5;241m.\u001b[39minput_dims:\n",
      "\u001b[0;31mKeyboardInterrupt\u001b[0m: "
     ]
    },
    {
     "data": {
      "image/png": "[encoded data removed]",
      "text/plain": [
       "<Figure size 640x480 with 1 Axes>"
      ]
     },
     "metadata": {},
     "output_type": "display_data"
    }
   ],
   "source": [
    "plt.hist(data_traj[0],range=(0,box[0]),bins=10)\n",
    "plt.xlabel('position x')\n",
    "plt.ylabel('occupancy')\n",
    "plt.show()"
   ]
  },
  {
   "cell_type": "code",
   "execution_count": 22,
   "metadata": {
    "collapsed": false
   },
   "outputs": [
    {
     "data": {
      "image/png": "[encoded data removed]",
      "text/plain": [
       "<Figure size 640x480 with 1 Axes>"
      ]
     },
     "metadata": {},
     "output_type": "display_data"
    }
   ],
   "source": [
    "plt.hist(data_traj[1],range=(0,box[1]),bins=10)\n",
    "plt.xlabel('position y')\n",
    "plt.ylabel('occupancy')\n",
    "plt.show()"
   ]
  },
  {
   "cell_type": "code",
   "execution_count": 23,
   "metadata": {
    "collapsed": false,
    "scrolled": true
   },
   "outputs": [
    {
     "data": {
      "image/png": "[encoded data removed]",
      "text/plain": [
       "<Figure size 640x480 with 2 Axes>"
      ]
     },
     "metadata": {},
     "output_type": "display_data"
    }
   ],
   "source": [
    "plt.hist2d(data_traj[0], data_traj[1], range=[[0,box[0]],[0,box[1]]], bins=10)\n",
    "plt.xlabel('position x')\n",
    "plt.ylabel('position y')\n",
    "plt.colorbar().set_label('occupancy')\n",
    "plt.show()"
   ]
  },
  {
   "cell_type": "markdown",
   "metadata": {},
   "source": [
    "**Interpretation:**\n",
    "* in the reduced data projection, the occupancy of each bin seems even and well-distributed\n",
    "* in the full dimensional projection, it can be seen easily that the box is **not** fully sampled, large undersampled patches present\n",
    "* *data dimensionality reduction always brings the danger of wrong projection!*"
   ]
  },
  {
   "cell_type": "markdown",
   "metadata": {},
   "source": [
    "**Solution for improvements:**\n",
    "* enhance sampling by\n",
    "    * prolong the simulation\n",
    "    * increase the time step\n",
    "* *Caveat: all solutions come with problems like increased computational cost or sampling errors!*"
   ]
  },
  {
   "cell_type": "code",
   "execution_count": null,
   "metadata": {
    "collapsed": true
   },
   "outputs": [],
   "source": []
  }
 ],
 "metadata": {
  "kernelspec": {
   "display_name": ".venv",
   "language": "python",
   "name": "python3"
  },
  "language_info": {
   "codemirror_mode": {
    "name": "ipython",
    "version": 3
   },
   "file_extension": ".py",
   "mimetype": "text/x-python",
   "name": "python",
   "nbconvert_exporter": "python",
   "pygments_lexer": "ipython3",
   "version": "3.11.1"
  }
 },
 "nbformat": 4,
 "nbformat_minor": 2
}
